{
 "cells": [
  {
   "cell_type": "markdown",
   "metadata": {},
   "source": [
    "- Setup the environment"
   ]
  },
  {
   "cell_type": "code",
   "execution_count": null,
   "metadata": {},
   "outputs": [],
   "source": [
    "import sys\n",
    "import os\n",
    "cur_dir = os.getcwd()\n",
    "# Add the current directory to system path (including parent folder)\n",
    "sys.path.append(cur_dir)\n",
    "sys.path.append(os.path.split(cur_dir)[0])"
   ]
  },
  {
   "cell_type": "markdown",
   "metadata": {},
   "source": [
    "- Load input data"
   ]
  },
  {
   "cell_type": "markdown",
   "metadata": {},
   "source": [
    "Create sample data"
   ]
  },
  {
   "cell_type": "code",
   "execution_count": null,
   "metadata": {},
   "outputs": [],
   "source": [
    "import pandas as pd\n",
    "import numpy as np\n",
    "# Prepare sample data\n",
    "timestamp = pd.date_range(start='2020-01-01', periods=300, freq='D')\n",
    "time_series = pd.DataFrame({'values': np.random.randn(300)}, index=timestamp)\n",
    "labels = pd.DataFrame({'label': np.random.randint(0, 3, size=300)}, index=timestamp)\n",
    "ext_features = pd.DataFrame({\n",
    "    'feature1': np.random.randn(300),\n",
    "    'feature2': np.random.randn(300)\n",
    "}, index=timestamp)\n",
    "\n",
    "combined_data = time_series.join(labels).join(ext_features)"
   ]
  },
  {
   "cell_type": "markdown",
   "metadata": {},
   "source": [
    "Train / Validation / Test split"
   ]
  },
  {
   "cell_type": "code",
   "execution_count": null,
   "metadata": {},
   "outputs": [],
   "source": [
    "# Train / Validation / Test Split\n",
    "train_data = combined_data[:100]\n",
    "val_data = combined_data[100:200]\n",
    "test_data = combined_data[200:]\n",
    "\n",
    "# Read targets\n",
    "train_target = train_data.label.values\n",
    "val_target = val_data.label.values\n",
    "test_target = test_data.label.values\n",
    "\n",
    "# Read features\n",
    "train_features = train_data[['feature1', 'feature2']].values\n",
    "val_features = val_data[['feature1', 'feature2']].values\n",
    "test_features = test_data[['feature1', 'feature2']].values"
   ]
  },
  {
   "cell_type": "code",
   "execution_count": null,
   "metadata": {},
   "outputs": [],
   "source": [
    "from pl_model_utils import TimeSeriesDataModule\n",
    "# Instantiate data module and model\n",
    "data_module = TimeSeriesDataModule(\n",
    "    train_target, train_features,\n",
    "    val_target, val_features,\n",
    "    test_target, test_features,\n",
    "    batch_size=16\n",
    ")\n",
    "\n",
    "# Setup the data for model\n",
    "data_module.setup()"
   ]
  },
  {
   "cell_type": "markdown",
   "metadata": {},
   "source": [
    "## Classification with Basic Autoencoder"
   ]
  },
  {
   "cell_type": "markdown",
   "metadata": {},
   "source": [
    "- Compile simple Autoencoder for Classification"
   ]
  },
  {
   "cell_type": "code",
   "execution_count": null,
   "metadata": {},
   "outputs": [],
   "source": [
    "from pl_autoencoder_classifiers import AutoencoderClassifier\n",
    "ae_model = AutoencoderClassifier(context_length=1, num_classes=3, num_features=2)"
   ]
  },
  {
   "cell_type": "code",
   "execution_count": null,
   "metadata": {},
   "outputs": [],
   "source": [
    "from pytorch_lightning.callbacks import ModelCheckpoint\n",
    "# Define a checkpoint callback to save the best model\n",
    "checkpoint_callback = ModelCheckpoint(\n",
    "    monitor='train_loss',\n",
    "    mode='min',\n",
    "    save_top_k=1,\n",
    "    save_last=True,\n",
    ")"
   ]
  },
  {
   "cell_type": "markdown",
   "metadata": {},
   "source": [
    "- Train the Autoencoder"
   ]
  },
  {
   "cell_type": "code",
   "execution_count": null,
   "metadata": {},
   "outputs": [],
   "source": [
    "from pytorch_lightning import Trainer\n",
    "# Train the model\n",
    "trainer = Trainer(max_epochs=20, callbacks=[checkpoint_callback])\n",
    "trainer.fit(ae_model, data_module.train_dataloader())"
   ]
  },
  {
   "cell_type": "markdown",
   "metadata": {},
   "source": [
    "- Cross-Validation (Using Combinatorial Purged K-Fold CV)"
   ]
  },
  {
   "cell_type": "code",
   "execution_count": null,
   "metadata": {},
   "outputs": [],
   "source": [
    "from pl_model_utils import cross_validate_model\n",
    "from CPCV.cpcv import CombPurgedKFoldCVLocal\n",
    "\n",
    "\n",
    "pred_times = pd.Series(val_data.index, index=val_data.index)\n",
    "eval_times = pd.Series(val_data.index, index=val_data.index)\n",
    "\n",
    "# Construct CPCV in-line with DePrado method\n",
    "cpcv = CombPurgedKFoldCVLocal(\n",
    "    n_splits=10,\n",
    "    n_test_splits=1,\n",
    "    embargo_td=pd.Timedelta(days=2)\n",
    ")\n",
    "\n",
    "cv_split = cpcv.split(\n",
    "    pd.DataFrame(data_module.val_features, index=val_data.index), \n",
    "    pd.Series(data_module.val_target, index=val_data.index), \n",
    "    pred_times, \n",
    "    eval_times)\n",
    "\n",
    "# Perform cross-validation\n",
    "cv_results = cross_validate_model(\n",
    "    X=data_module.val_features,\n",
    "    y=data_module.val_target,\n",
    "    model=ae_model,\n",
    "    cv_split=cv_split)"
   ]
  },
  {
   "cell_type": "code",
   "execution_count": null,
   "metadata": {},
   "outputs": [],
   "source": [
    "from mc_dropout import mc_dropout # final, one-line function to implement mc dropout (As suggested here: https://github.com/Lightning-AI/pytorch-lightning/blob/f35e2210e240b443fd4dafed8fe2e30ee7d579ea/docs/source/common/production_inference.rst#prediction-api)\n",
    "predictions_mean, predictions_std = mc_dropout(ae_model, data_module.val_dataloader(), mc_iterations=100)"
   ]
  },
  {
   "cell_type": "code",
   "execution_count": null,
   "metadata": {},
   "outputs": [],
   "source": [
    "np.argmax(predictions_mean, axis=1)"
   ]
  },
  {
   "cell_type": "markdown",
   "metadata": {},
   "source": [
    "## Classification with Attention-Enchanced Autoencoder"
   ]
  },
  {
   "cell_type": "markdown",
   "metadata": {},
   "source": [
    "## Hyperparameter Tuning"
   ]
  },
  {
   "cell_type": "code",
   "execution_count": null,
   "metadata": {},
   "outputs": [],
   "source": [
    "from pytorch_lightning.callbacks import EarlyStopping\n",
    "from pl_autoencoder_classifiers import AutoencoderAttentionClassifier\n",
    "from pl_model_utils import TimeSeriesDataset\n",
    "import pytorch_lightning as pl\n",
    "import torch\n",
    "from sklearn.model_selection import TimeSeriesSplit\n",
    "from torch.utils.data import Dataset, DataLoader\n",
    "from sklearn.metrics import log_loss\n",
    "import optuna\n",
    "import numpy as np\n",
    "\n",
    "def ae_attention_objective(trial):\n",
    "    context_length = 1\n",
    "    num_classes = 3\n",
    "    num_features = 2\n",
    "\n",
    "    # Suggest hyperparameters\n",
    "    lr = trial.suggest_categorical('lr', [1e-5, 1e-3, 1e-2])\n",
    "    num_heads = trial.suggest_categorical('num_heads', [1, 2, 4])\n",
    "    dropout_prob = trial.suggest_categorical('dropout_prob', [0.1, 0.3, 0.5])\n",
    "    hidden_units = trial.suggest_categorical('hidden_units', [64, 128, 256])\n",
    "    embed_dim = trial.suggest_categorical('embed_dim', [32, 64, 128])\n",
    "    classifier_units = trial.suggest_categorical('classifier_units', [16, 32, 64])\n",
    "    batch_size = trial.suggest_categorical('batch_size', [16, 32, 64])\n",
    "\n",
    "    # Initialize the model with suggested hyperparameters\n",
    "    model = AutoencoderAttentionClassifier(\n",
    "        context_length=context_length,\n",
    "        num_classes=num_classes,\n",
    "        num_features=num_features,\n",
    "        num_heads=num_heads,\n",
    "        dropout_prob=dropout_prob,\n",
    "        hidden_units=hidden_units,\n",
    "        embed_dim=embed_dim,\n",
    "        classifier_units=classifier_units,\n",
    "        lr=lr\n",
    "    )\n",
    "\n",
    "    # Assuming you have your dataset in `X` and `y`\n",
    "    X, y = data_module.val_features, data_module.val_target\n",
    "    # X = np.array(X_train)  # Ensure X_train is a NumPy array\n",
    "    # y = np.array(y_train)  # Ensure y_train is a NumPy array\n",
    "\n",
    "    # Time series split\n",
    "    tscv = TimeSeriesSplit(n_splits=5)\n",
    "    cv_scores = []\n",
    "\n",
    "    for train_index, val_index in tscv.split(X):\n",
    "        X_train_fold, X_val_fold = X[train_index], X[val_index]\n",
    "        y_train_fold, y_val_fold = y[train_index], y[val_index]\n",
    "\n",
    "        # Create DataLoader for the training and validation fold\n",
    "        train_dataset = TimeSeriesDataset(\n",
    "            torch.tensor(y_train_fold, dtype=torch.float32), \n",
    "            torch.tensor(X_train_fold, dtype=torch.float32)\n",
    "            )\n",
    "        \n",
    "        val_dataset = TimeSeriesDataset(\n",
    "            torch.tensor(y_val_fold, dtype=torch.float32), \n",
    "            torch.tensor(X_val_fold, dtype=torch.float32)\n",
    "            )\n",
    "        \n",
    "        train_loader = DataLoader(train_dataset, batch_size=batch_size, shuffle=False)\n",
    "        val_loader = DataLoader(val_dataset, batch_size=batch_size, shuffle=False)\n",
    "\n",
    "        # Initialize trainer\n",
    "        trainer = pl.Trainer(\n",
    "            max_epochs=10,\n",
    "            callbacks=[EarlyStopping(monitor='train_loss', patience=3, mode='min')],\n",
    "            logger=False,\n",
    "            enable_checkpointing=False\n",
    "        )\n",
    "\n",
    "        # Train the model\n",
    "        trainer.fit(model, train_loader)\n",
    "\n",
    "        # Validate the model\n",
    "\n",
    "        model.eval()\n",
    "        all_preds = []\n",
    "        all_targets = []\n",
    "        with torch.no_grad():\n",
    "            for batch in val_loader:\n",
    "                targets, features = batch\n",
    "                _, classification = model(targets, features)\n",
    "                # preds = torch.argmax(classification, dim=1)\n",
    "                all_preds.extend(classification.cpu().numpy())\n",
    "                all_targets.extend(targets.cpu().numpy())\n",
    "\n",
    "        # val_predictions = trainer.predict(model, val_loader)\n",
    "        # val_predictions = torch.cat([x for x in val_predictions], dim=0).numpy()\n",
    "        \n",
    "        val_loss = log_loss(all_targets, all_preds)\n",
    "        cv_scores.append(val_loss)\n",
    "\n",
    "    return np.mean(cv_scores)"
   ]
  },
  {
   "cell_type": "code",
   "execution_count": null,
   "metadata": {},
   "outputs": [],
   "source": [
    "# Run the Optuna study\n",
    "study = optuna.create_study(direction='minimize')\n",
    "study.optimize(ae_attention_objective, n_trials=10)"
   ]
  },
  {
   "cell_type": "code",
   "execution_count": null,
   "metadata": {},
   "outputs": [],
   "source": [
    "# Print best hyperparameters\n",
    "print(\"Best hyperparameters:\", study.best_params)"
   ]
  },
  {
   "cell_type": "code",
   "execution_count": null,
   "metadata": {},
   "outputs": [],
   "source": [
    "ae_attention_model = AutoencoderAttentionClassifier(\n",
    "    context_length=1, \n",
    "    num_classes=3, \n",
    "    num_features=2,\n",
    "    lr=study.best_params['lr'],\n",
    "    num_heads=study.best_params['num_heads'],\n",
    "    dropout_prob=study.best_params['dropout_prob'],\n",
    "    hidden_units=study.best_params['hidden_units'],\n",
    "    embed_dim=study.best_params['embed_dim'],\n",
    "    classifier_units=study.best_params['classifier_units']\n",
    "    )"
   ]
  },
  {
   "cell_type": "code",
   "execution_count": null,
   "metadata": {},
   "outputs": [],
   "source": [
    "ae_attention_model = AutoencoderAttentionClassifier(\n",
    "    context_length=1, \n",
    "    num_classes=3, \n",
    "    num_features=2,\n",
    "    lr=0.001,\n",
    "    num_heads=1,\n",
    "    dropout_prob=0.1,\n",
    "    hidden_units=256,\n",
    "    embed_dim=128,\n",
    "    classifier_units=64\n",
    "    )"
   ]
  },
  {
   "cell_type": "code",
   "execution_count": null,
   "metadata": {},
   "outputs": [],
   "source": [
    "# Train the model\n",
    "trainer = Trainer(max_epochs=10, callbacks=[checkpoint_callback])\n",
    "trainer.fit(ae_attention_model, data_module.train_dataloader())"
   ]
  },
  {
   "cell_type": "code",
   "execution_count": null,
   "metadata": {},
   "outputs": [],
   "source": [
    "# Construct CPCV in-line with DePrado method\n",
    "cpcv = CombPurgedKFoldCVLocal(\n",
    "    n_splits=10,\n",
    "    n_test_splits=1,\n",
    "    embargo_td=pd.Timedelta(days=2)\n",
    ")\n",
    "\n",
    "cv_split = cpcv.split(\n",
    "    pd.DataFrame(data_module.val_features, index=val_data.index), \n",
    "    pd.Series(data_module.val_target, index=val_data.index), \n",
    "    pred_times, \n",
    "    eval_times)\n",
    "\n",
    "\n",
    "# Perform cross-validation\n",
    "cv_results = cross_validate_model(\n",
    "    X=data_module.val_features, \n",
    "    y=data_module.val_target, \n",
    "    model=ae_attention_model,\n",
    "    cv_split=cv_split)"
   ]
  },
  {
   "cell_type": "code",
   "execution_count": null,
   "metadata": {},
   "outputs": [],
   "source": [
    "print(cv_results)"
   ]
  },
  {
   "cell_type": "code",
   "execution_count": null,
   "metadata": {},
   "outputs": [],
   "source": [
    "predictions_mean, predictions_std = mc_dropout(ae_attention_model, data_module.val_dataloader(), mc_iterations=100)"
   ]
  },
  {
   "cell_type": "code",
   "execution_count": null,
   "metadata": {},
   "outputs": [],
   "source": [
    "predicted_labels = np.argmax(predictions_mean, axis=1)"
   ]
  },
  {
   "cell_type": "code",
   "execution_count": null,
   "metadata": {},
   "outputs": [],
   "source": [
    "# Example output with probabilities and uncertainty\n",
    "for i, (mean, std) in enumerate(zip(predictions_mean, predictions_std)):\n",
    "    # softmax_probs = np.exp(mean) / np.sum(np.exp(mean)) # Softmax to get probabilities\n",
    "    print(f'Sample {i}: Predicted Label = {predicted_labels[i]}, Probabilities = {mean}, Uncertainty (std) = {std}')"
   ]
  },
  {
   "cell_type": "markdown",
   "metadata": {},
   "source": [
    "- Export the reults"
   ]
  },
  {
   "cell_type": "code",
   "execution_count": null,
   "metadata": {},
   "outputs": [],
   "source": [
    "import pandas as pd\n",
    "# Save test predictions to a CSV\n",
    "test_df = pd.DataFrame({\n",
    "    'Prediction': predicted_labels,\n",
    "    'Probability_0': [p[0] for p in predictions_mean],\n",
    "    'Probability_1': [p[1] for p in predictions_mean],\n",
    "    'Probability_2': [p[2] for p in predictions_mean],  # Adjust based on num_classes\n",
    "    'Uncertainty_0': [u[0] for u in predictions_std],\n",
    "    'Uncertainty_1': [u[1] for u in predictions_std],\n",
    "    'Uncertainty_2': [u[2] for u in predictions_std] \n",
    "})\n",
    "\n",
    "test_df.to_csv('test_predictions.csv', index=False)"
   ]
  },
  {
   "cell_type": "markdown",
   "metadata": {},
   "source": [
    "- Export the model"
   ]
  },
  {
   "cell_type": "code",
   "execution_count": null,
   "metadata": {},
   "outputs": [],
   "source": [
    "from torch import save\n",
    "save(ae_attention_model.state_dict(), 'autoencoder_attention_classifier.pth')"
   ]
  },
  {
   "cell_type": "code",
   "execution_count": null,
   "metadata": {},
   "outputs": [],
   "source": [
    "import h5py\n",
    "\n",
    "with h5py.File('ae_data.h5', 'w') as f:\n",
    "    f.create_dataset('X', data=data_module.val_features)\n",
    "    f.create_dataset('y', data=data_module.val_target)"
   ]
  },
  {
   "cell_type": "markdown",
   "metadata": {},
   "source": [
    "## Explainable AI Part"
   ]
  },
  {
   "cell_type": "code",
   "execution_count": 1,
   "metadata": {},
   "outputs": [],
   "source": [
    "import sys\n",
    "import os\n",
    "sys.path.append(os.getcwd())"
   ]
  },
  {
   "cell_type": "code",
   "execution_count": 2,
   "metadata": {},
   "outputs": [],
   "source": [
    "import h5py\n",
    "\n",
    "with h5py.File('ae_data.h5', 'r') as f:\n",
    "    X = f['X'][:]\n",
    "    y = f['y'][:]"
   ]
  },
  {
   "cell_type": "code",
   "execution_count": 3,
   "metadata": {},
   "outputs": [
    {
     "name": "stderr",
     "output_type": "stream",
     "text": [
      "c:\\Users\\jedre\\miniconda3\\envs\\GluonTS\\lib\\site-packages\\tqdm\\auto.py:21: TqdmWarning: IProgress not found. Please update jupyter and ipywidgets. See https://ipywidgets.readthedocs.io/en/stable/user_install.html\n",
      "  from .autonotebook import tqdm as notebook_tqdm\n"
     ]
    }
   ],
   "source": [
    "from pl_autoencoder_classifiers import AutoencoderAttentionClassifier\n",
    "from pl_model_utils import TimeSeriesDataset\n",
    "from torch.utils.data import DataLoader"
   ]
  },
  {
   "cell_type": "code",
   "execution_count": 4,
   "metadata": {},
   "outputs": [],
   "source": [
    "import torch\n",
    "val_dataset = TimeSeriesDataset(\n",
    "            torch.tensor(y, dtype=torch.float32), \n",
    "            torch.tensor(X, dtype=torch.float32)\n",
    "            )\n",
    "\n",
    "val_loader = DataLoader(val_dataset, batch_size=16, shuffle=False)"
   ]
  },
  {
   "cell_type": "code",
   "execution_count": 5,
   "metadata": {},
   "outputs": [],
   "source": [
    "batch = next(iter(val_loader))\n",
    "targets, features = batch"
   ]
  },
  {
   "cell_type": "code",
   "execution_count": 6,
   "metadata": {},
   "outputs": [],
   "source": [
    "x = torch.cat((\n",
    "    targets.unsqueeze(1),\n",
    "    features\n",
    "), dim=1)"
   ]
  },
  {
   "cell_type": "code",
   "execution_count": 7,
   "metadata": {},
   "outputs": [
    {
     "data": {
      "text/plain": [
       "AutoencoderAttentionClassifier(\n",
       "  (encoder): Sequential(\n",
       "    (0): Linear(in_features=3, out_features=256, bias=True)\n",
       "    (1): ReLU()\n",
       "    (2): Dropout(p=0.1, inplace=False)\n",
       "    (3): Linear(in_features=256, out_features=128, bias=True)\n",
       "    (4): ReLU()\n",
       "    (5): Dropout(p=0.1, inplace=False)\n",
       "  )\n",
       "  (attention): MultiheadAttention(\n",
       "    (out_proj): NonDynamicallyQuantizableLinear(in_features=128, out_features=128, bias=True)\n",
       "  )\n",
       "  (decoder): Sequential(\n",
       "    (0): Linear(in_features=128, out_features=256, bias=True)\n",
       "    (1): ReLU()\n",
       "    (2): Linear(in_features=256, out_features=1, bias=True)\n",
       "    (3): ReLU()\n",
       "  )\n",
       "  (classifier): Sequential(\n",
       "    (0): Linear(in_features=128, out_features=64, bias=True)\n",
       "    (1): ReLU()\n",
       "    (2): Dropout(p=0.1, inplace=False)\n",
       "    (3): Linear(in_features=64, out_features=3, bias=True)\n",
       "  )\n",
       "  (softmax): Softmax(dim=1)\n",
       ")"
      ]
     },
     "execution_count": 7,
     "metadata": {},
     "output_type": "execute_result"
    }
   ],
   "source": [
    "ae_model = AutoencoderAttentionClassifier(\n",
    "    context_length=1, \n",
    "    num_classes=3, \n",
    "    num_features=2,\n",
    "    lr=0.001,\n",
    "    num_heads=1,\n",
    "    dropout_prob=0.1,\n",
    "    hidden_units=256,\n",
    "    embed_dim=128,\n",
    "    classifier_units=64)\n",
    "ae_model.load_state_dict(torch.load('autoencoder_attention_classifier.pth'))\n",
    "ae_model.eval()"
   ]
  },
  {
   "cell_type": "code",
   "execution_count": 8,
   "metadata": {},
   "outputs": [
    {
     "data": {
      "text/plain": [
       "tensor([[9.3144e-26, 1.0000e+00, 0.0000e+00],\n",
       "        [3.7857e-23, 1.0000e+00, 0.0000e+00],\n",
       "        [0.0000e+00, 0.0000e+00, 1.0000e+00],\n",
       "        [2.7932e-28, 1.0000e+00, 0.0000e+00],\n",
       "        [0.0000e+00, 0.0000e+00, 1.0000e+00],\n",
       "        [1.0000e+00, 0.0000e+00, 0.0000e+00],\n",
       "        [0.0000e+00, 0.0000e+00, 1.0000e+00],\n",
       "        [0.0000e+00, 0.0000e+00, 1.0000e+00],\n",
       "        [2.6104e-24, 1.0000e+00, 0.0000e+00],\n",
       "        [1.0000e+00, 0.0000e+00, 0.0000e+00],\n",
       "        [1.0000e+00, 0.0000e+00, 0.0000e+00],\n",
       "        [2.0771e-25, 1.0000e+00, 0.0000e+00],\n",
       "        [7.8490e-22, 1.0000e+00, 0.0000e+00],\n",
       "        [3.3915e-21, 1.0000e+00, 0.0000e+00],\n",
       "        [2.7716e-25, 1.0000e+00, 0.0000e+00],\n",
       "        [1.0000e+00, 0.0000e+00, 0.0000e+00]], grad_fn=<SoftmaxBackward0>)"
      ]
     },
     "execution_count": 8,
     "metadata": {},
     "output_type": "execute_result"
    }
   ],
   "source": [
    "ae_model(x)"
   ]
  },
  {
   "cell_type": "code",
   "execution_count": 9,
   "metadata": {},
   "outputs": [
    {
     "name": "stdout",
     "output_type": "stream",
     "text": [
      "WARNING:tensorflow:From c:\\Users\\jedre\\miniconda3\\envs\\GluonTS\\lib\\site-packages\\tf_keras\\src\\losses.py:2976: The name tf.losses.sparse_softmax_cross_entropy is deprecated. Please use tf.compat.v1.losses.sparse_softmax_cross_entropy instead.\n",
      "\n"
     ]
    }
   ],
   "source": [
    "import shap\n",
    "\n",
    "e = shap.DeepExplainer(ae_model, x)"
   ]
  },
  {
   "cell_type": "code",
   "execution_count": 10,
   "metadata": {},
   "outputs": [],
   "source": [
    "shap_values = e.shap_values(x)"
   ]
  },
  {
   "cell_type": "code",
   "execution_count": 11,
   "metadata": {},
   "outputs": [
    {
     "data": {
      "image/png": "[encoded data removed]",
      "text/plain": [
       "<Figure size 1150x660 with 3 Axes>"
      ]
     },
     "metadata": {},
     "output_type": "display_data"
    }
   ],
   "source": [
    "shap.summary_plot(shap_values, x)"
   ]
  },
  {
   "cell_type": "code",
   "execution_count": 17,
   "metadata": {},
   "outputs": [],
   "source": [
    "def predict_proba(X):\n",
    "    ae_model.eval()\n",
    "    with torch.no_grad():\n",
    "        X_tensor = torch.tensor(X)\n",
    "        predictions = ae_model(X_tensor).numpy()\n",
    "\n",
    "    return np.hstack((1 - predictions, predictions))"
   ]
  },
  {
   "cell_type": "code",
   "execution_count": 12,
   "metadata": {},
   "outputs": [],
   "source": [
    "from lime import lime_tabular"
   ]
  },
  {
   "cell_type": "code",
   "execution_count": 13,
   "metadata": {},
   "outputs": [],
   "source": [
    "explainer_lime = lime_tabular.LimeTabularExplainer(\n",
    "    training_data=x.detach().numpy(), \n",
    "    mode='classification',\n",
    "    feature_names=['Feature_1', 'Feature_2', 'Feature_3'],\n",
    "    verbose=True)"
   ]
  },
  {
   "cell_type": "code",
   "execution_count": null,
   "metadata": {},
   "outputs": [],
   "source": [
    "type(x.detach().numpy())"
   ]
  },
  {
   "cell_type": "code",
   "execution_count": null,
   "metadata": {},
   "outputs": [],
   "source": [
    "import numpy as np\n",
    "if type(x.detach().numpy()) == np.ndarray:\n",
    "    print(True)"
   ]
  }
 ],
 "metadata": {
  "kernelspec": {
   "display_name": "GluonTS",
   "language": "python",
   "name": "python3"
  },
  "language_info": {
   "codemirror_mode": {
    "name": "ipython",
    "version": 3
   },
   "file_extension": ".py",
   "mimetype": "text/x-python",
   "name": "python",
   "nbconvert_exporter": "python",
   "pygments_lexer": "ipython3",
   "version": "3.9.19"
  }
 },
 "nbformat": 4,
 "nbformat_minor": 2
}
