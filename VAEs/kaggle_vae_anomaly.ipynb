{
 "cells": [
  {
   "cell_type": "code",
   "execution_count": 4,
   "metadata": {},
   "outputs": [],
   "source": [
    "import os, sys\n",
    "from argparse import Namespace\n",
    "import numpy as np\n",
    "import pandas as pd\n",
    "from pathlib import Path\n",
    "from collections import OrderedDict\n",
    "import torch\n",
    "import torch.nn as nn\n",
    "import torch.nn.functional as F\n",
    "from torch.utils.data import Dataset, DataLoader\n",
    "import sklearn\n",
    "from sklearn import preprocessing\n",
    "import matplotlib\n",
    "import matplotlib.pyplot as plt\n",
    "import pytorch_lightning as pl\n",
    "from pytorch_lightning.loggers import WandbLogger\n",
    "import wandb\n",
    "\n",
    "plt.style.use('tableau-colorblind10')"
   ]
  },
  {
   "cell_type": "code",
   "execution_count": 5,
   "metadata": {},
   "outputs": [
    {
     "name": "stdout",
     "output_type": "stream",
     "text": [
      "Python version: 3.9.19 (main, May  6 2024, 20:12:36) [MSC v.1916 64 bit (AMD64)]\n",
      "Package versions:\n",
      "Pytorch: 2.0.1+cpu\n",
      "Pytorch-Lightning: 2.0.2\n",
      "Matplotlib: 3.9.0\n",
      "scikit-learn: 1.4.2\n",
      "Weights&Biases: 0.18.5\n"
     ]
    }
   ],
   "source": [
    "print('Python version:', sys.version)\n",
    "print('Package versions:')\n",
    "print('Pytorch:', torch.__version__)\n",
    "print('Pytorch-Lightning:', pl.__version__)\n",
    "print('Matplotlib:', matplotlib.__version__)\n",
    "print('scikit-learn:', sklearn.__version__)\n",
    "print('Weights&Biases:', wandb.__version__)"
   ]
  },
  {
   "cell_type": "code",
   "execution_count": 8,
   "metadata": {},
   "outputs": [
    {
     "name": "stdout",
     "output_type": "stream",
     "text": [
      "Downloading from https://www.kaggle.com/api/v1/datasets/download/boltzmannbrain/nab?dataset_version_number=1...\n"
     ]
    },
    {
     "name": "stderr",
     "output_type": "stream",
     "text": [
      "100%|██████████| 1.64M/1.64M [00:00<00:00, 2.27MB/s]"
     ]
    },
    {
     "name": "stdout",
     "output_type": "stream",
     "text": [
      "Extracting files...\n"
     ]
    },
    {
     "name": "stderr",
     "output_type": "stream",
     "text": [
      "\n"
     ]
    },
    {
     "name": "stdout",
     "output_type": "stream",
     "text": [
      "Path to dataset files: C:\\Users\\jedre\\.cache\\kagglehub\\datasets\\boltzmannbrain\\nab\\versions\\1\n"
     ]
    }
   ],
   "source": [
    "import kagglehub\n",
    "\n",
    "# Download latest version\n",
    "path = kagglehub.dataset_download(\"boltzmannbrain/nab\")\n",
    "\n",
    "print(\"Path to dataset files:\", path)"
   ]
  },
  {
   "cell_type": "code",
   "execution_count": 10,
   "metadata": {},
   "outputs": [],
   "source": [
    "import re"
   ]
  },
  {
   "cell_type": "code",
   "execution_count": 19,
   "metadata": {},
   "outputs": [],
   "source": [
    "for dirname, _, filenames in os.walk(path):\n",
    "    for filename in filenames:\n",
    "        if len(re.findall('machine_temperature_system_failure', filename)) > 0:\n",
    "            file_path = os.path.join(dirname, filename)"
   ]
  },
  {
   "cell_type": "code",
   "execution_count": 20,
   "metadata": {},
   "outputs": [
    {
     "data": {
      "text/plain": [
       "'C:\\\\Users\\\\jedre\\\\.cache\\\\kagglehub\\\\datasets\\\\boltzmannbrain\\\\nab\\\\versions\\\\1\\\\realKnownCause\\\\realKnownCause\\\\machine_temperature_system_failure.csv'"
      ]
     },
     "execution_count": 20,
     "metadata": {},
     "output_type": "execute_result"
    }
   ],
   "source": [
    "file_path"
   ]
  },
  {
   "cell_type": "code",
   "execution_count": 21,
   "metadata": {},
   "outputs": [
    {
     "data": {
      "text/html": [
       "<div>\n",
       "<style scoped>\n",
       "    .dataframe tbody tr th:only-of-type {\n",
       "        vertical-align: middle;\n",
       "    }\n",
       "\n",
       "    .dataframe tbody tr th {\n",
       "        vertical-align: top;\n",
       "    }\n",
       "\n",
       "    .dataframe thead th {\n",
       "        text-align: right;\n",
       "    }\n",
       "</style>\n",
       "<table border=\"1\" class=\"dataframe\">\n",
       "  <thead>\n",
       "    <tr style=\"text-align: right;\">\n",
       "      <th></th>\n",
       "      <th>timestamp</th>\n",
       "      <th>value</th>\n",
       "    </tr>\n",
       "  </thead>\n",
       "  <tbody>\n",
       "    <tr>\n",
       "      <th>0</th>\n",
       "      <td>2013-12-02 21:15:00</td>\n",
       "      <td>73.967322</td>\n",
       "    </tr>\n",
       "    <tr>\n",
       "      <th>1</th>\n",
       "      <td>2013-12-02 21:20:00</td>\n",
       "      <td>74.935882</td>\n",
       "    </tr>\n",
       "    <tr>\n",
       "      <th>2</th>\n",
       "      <td>2013-12-02 21:25:00</td>\n",
       "      <td>76.124162</td>\n",
       "    </tr>\n",
       "    <tr>\n",
       "      <th>3</th>\n",
       "      <td>2013-12-02 21:30:00</td>\n",
       "      <td>78.140707</td>\n",
       "    </tr>\n",
       "    <tr>\n",
       "      <th>4</th>\n",
       "      <td>2013-12-02 21:35:00</td>\n",
       "      <td>79.329836</td>\n",
       "    </tr>\n",
       "  </tbody>\n",
       "</table>\n",
       "</div>"
      ],
      "text/plain": [
       "             timestamp      value\n",
       "0  2013-12-02 21:15:00  73.967322\n",
       "1  2013-12-02 21:20:00  74.935882\n",
       "2  2013-12-02 21:25:00  76.124162\n",
       "3  2013-12-02 21:30:00  78.140707\n",
       "4  2013-12-02 21:35:00  79.329836"
      ]
     },
     "execution_count": 21,
     "metadata": {},
     "output_type": "execute_result"
    }
   ],
   "source": [
    "raw_dt = pd.read_csv(file_path)\n",
    "raw_dt.head()"
   ]
  },
  {
   "cell_type": "code",
   "execution_count": 22,
   "metadata": {},
   "outputs": [
    {
     "data": {
      "image/png": "[encoded data removed]",
      "text/plain": [
       "<Figure size 1200x800 with 1 Axes>"
      ]
     },
     "metadata": {},
     "output_type": "display_data"
    }
   ],
   "source": [
    "data = raw_dt.copy()\n",
    "data['timestamp'] = pd.to_datetime(data['timestamp'])\n",
    "data.plot(x='timestamp', y='value', figsize=(12, 8))\n",
    "plt.ylabel(\"temperature\")\n",
    "plt.title(\"Original Dataset\");"
   ]
  },
  {
   "cell_type": "code",
   "execution_count": 23,
   "metadata": {},
   "outputs": [],
   "source": [
    "data['day'] = data['timestamp'].dt.day\n",
    "data['month'] = data['timestamp'].dt.month\n",
    "data['hour_min'] = data['timestamp'].dt.hour + data['timestamp'].dt.minute / 60\n",
    "\n",
    "data['day_of_week'] = data['timestamp'].dt.dayofweek\n",
    "data['holiday'] = 0\n",
    "data.loc[(data['day'] == 25) & (data['month'] == 12),'holiday'] = 1  # Christmas\n",
    "data.loc[(data['day'] == 1) & (data['month'] == 1),'holiday'] = 1  # New Year's Day"
   ]
  },
  {
   "cell_type": "code",
   "execution_count": 24,
   "metadata": {},
   "outputs": [
    {
     "data": {
      "text/plain": [
       "array([datetime.date(2013, 12, 25), datetime.date(2014, 1, 1)],\n",
       "      dtype=object)"
      ]
     },
     "execution_count": 24,
     "metadata": {},
     "output_type": "execute_result"
    }
   ],
   "source": [
    "holidays = data.loc[data['holiday'] == 1, 'timestamp'].dt.date.unique()\n",
    "holidays"
   ]
  },
  {
   "cell_type": "code",
   "execution_count": 25,
   "metadata": {},
   "outputs": [],
   "source": [
    "for i, hd in enumerate(holidays):\n",
    "    data['hol_' + str(i)] = data['timestamp'].dt.date - hd"
   ]
  },
  {
   "cell_type": "code",
   "execution_count": 26,
   "metadata": {},
   "outputs": [],
   "source": [
    "for i in range(data.shape[0]):\n",
    "    if np.abs(data.loc[data.index[i], 'hol_0']) <= np.abs(data.loc[data.index[i], 'hol_1']):\n",
    "        data.loc[data.index[i], 'gap_holiday'] = data.loc[data.index[i], 'hol_0']\n",
    "    else:\n",
    "        data.loc[data.index[i], 'gap_holiday'] = data.loc[data.index[i], 'hol_1']"
   ]
  },
  {
   "cell_type": "code",
   "execution_count": 41,
   "metadata": {},
   "outputs": [
    {
     "ename": "KeyError",
     "evalue": "'timestamp'",
     "output_type": "error",
     "traceback": [
      "\u001b[1;31m---------------------------------------------------------------------------\u001b[0m",
      "\u001b[1;31mKeyError\u001b[0m                                  Traceback (most recent call last)",
      "File \u001b[1;32mc:\\Users\\jedre\\miniconda3\\envs\\GluonTS\\lib\\site-packages\\pandas\\core\\indexes\\base.py:3653\u001b[0m, in \u001b[0;36mIndex.get_loc\u001b[1;34m(self, key)\u001b[0m\n\u001b[0;32m   3652\u001b[0m \u001b[38;5;28;01mtry\u001b[39;00m:\n\u001b[1;32m-> 3653\u001b[0m     \u001b[38;5;28;01mreturn\u001b[39;00m \u001b[38;5;28;43mself\u001b[39;49m\u001b[38;5;241;43m.\u001b[39;49m\u001b[43m_engine\u001b[49m\u001b[38;5;241;43m.\u001b[39;49m\u001b[43mget_loc\u001b[49m\u001b[43m(\u001b[49m\u001b[43mcasted_key\u001b[49m\u001b[43m)\u001b[49m\n\u001b[0;32m   3654\u001b[0m \u001b[38;5;28;01mexcept\u001b[39;00m \u001b[38;5;167;01mKeyError\u001b[39;00m \u001b[38;5;28;01mas\u001b[39;00m err:\n",
      "File \u001b[1;32mc:\\Users\\jedre\\miniconda3\\envs\\GluonTS\\lib\\site-packages\\pandas\\_libs\\index.pyx:147\u001b[0m, in \u001b[0;36mpandas._libs.index.IndexEngine.get_loc\u001b[1;34m()\u001b[0m\n",
      "File \u001b[1;32mc:\\Users\\jedre\\miniconda3\\envs\\GluonTS\\lib\\site-packages\\pandas\\_libs\\index.pyx:176\u001b[0m, in \u001b[0;36mpandas._libs.index.IndexEngine.get_loc\u001b[1;34m()\u001b[0m\n",
      "File \u001b[1;32mpandas\\_libs\\hashtable_class_helper.pxi:7080\u001b[0m, in \u001b[0;36mpandas._libs.hashtable.PyObjectHashTable.get_item\u001b[1;34m()\u001b[0m\n",
      "File \u001b[1;32mpandas\\_libs\\hashtable_class_helper.pxi:7088\u001b[0m, in \u001b[0;36mpandas._libs.hashtable.PyObjectHashTable.get_item\u001b[1;34m()\u001b[0m\n",
      "\u001b[1;31mKeyError\u001b[0m: 'timestamp'",
      "\nThe above exception was the direct cause of the following exception:\n",
      "\u001b[1;31mKeyError\u001b[0m                                  Traceback (most recent call last)",
      "Cell \u001b[1;32mIn[41], line 1\u001b[0m\n\u001b[1;32m----> 1\u001b[0m data[\u001b[38;5;124m'\u001b[39m\u001b[38;5;124mt\u001b[39m\u001b[38;5;124m'\u001b[39m] \u001b[38;5;241m=\u001b[39m (\u001b[43mdata\u001b[49m\u001b[43m[\u001b[49m\u001b[38;5;124;43m'\u001b[39;49m\u001b[38;5;124;43mtimestamp\u001b[39;49m\u001b[38;5;124;43m'\u001b[39;49m\u001b[43m]\u001b[49m\u001b[38;5;241m.\u001b[39mastype(np\u001b[38;5;241m.\u001b[39mint64)\u001b[38;5;241m/\u001b[39m\u001b[38;5;241m1e11\u001b[39m)\u001b[38;5;241m.\u001b[39mastype(np\u001b[38;5;241m.\u001b[39mint64)\n\u001b[0;32m      2\u001b[0m data\u001b[38;5;241m.\u001b[39mdrop(\u001b[38;5;124m'\u001b[39m\u001b[38;5;124mtimestamp\u001b[39m\u001b[38;5;124m'\u001b[39m, axis\u001b[38;5;241m=\u001b[39m\u001b[38;5;241m1\u001b[39m, inplace\u001b[38;5;241m=\u001b[39m\u001b[38;5;28;01mTrue\u001b[39;00m)\n\u001b[0;32m      3\u001b[0m data\n",
      "File \u001b[1;32mc:\\Users\\jedre\\miniconda3\\envs\\GluonTS\\lib\\site-packages\\pandas\\core\\frame.py:3761\u001b[0m, in \u001b[0;36mDataFrame.__getitem__\u001b[1;34m(self, key)\u001b[0m\n\u001b[0;32m   3759\u001b[0m \u001b[38;5;28;01mif\u001b[39;00m \u001b[38;5;28mself\u001b[39m\u001b[38;5;241m.\u001b[39mcolumns\u001b[38;5;241m.\u001b[39mnlevels \u001b[38;5;241m>\u001b[39m \u001b[38;5;241m1\u001b[39m:\n\u001b[0;32m   3760\u001b[0m     \u001b[38;5;28;01mreturn\u001b[39;00m \u001b[38;5;28mself\u001b[39m\u001b[38;5;241m.\u001b[39m_getitem_multilevel(key)\n\u001b[1;32m-> 3761\u001b[0m indexer \u001b[38;5;241m=\u001b[39m \u001b[38;5;28;43mself\u001b[39;49m\u001b[38;5;241;43m.\u001b[39;49m\u001b[43mcolumns\u001b[49m\u001b[38;5;241;43m.\u001b[39;49m\u001b[43mget_loc\u001b[49m\u001b[43m(\u001b[49m\u001b[43mkey\u001b[49m\u001b[43m)\u001b[49m\n\u001b[0;32m   3762\u001b[0m \u001b[38;5;28;01mif\u001b[39;00m is_integer(indexer):\n\u001b[0;32m   3763\u001b[0m     indexer \u001b[38;5;241m=\u001b[39m [indexer]\n",
      "File \u001b[1;32mc:\\Users\\jedre\\miniconda3\\envs\\GluonTS\\lib\\site-packages\\pandas\\core\\indexes\\base.py:3655\u001b[0m, in \u001b[0;36mIndex.get_loc\u001b[1;34m(self, key)\u001b[0m\n\u001b[0;32m   3653\u001b[0m     \u001b[38;5;28;01mreturn\u001b[39;00m \u001b[38;5;28mself\u001b[39m\u001b[38;5;241m.\u001b[39m_engine\u001b[38;5;241m.\u001b[39mget_loc(casted_key)\n\u001b[0;32m   3654\u001b[0m \u001b[38;5;28;01mexcept\u001b[39;00m \u001b[38;5;167;01mKeyError\u001b[39;00m \u001b[38;5;28;01mas\u001b[39;00m err:\n\u001b[1;32m-> 3655\u001b[0m     \u001b[38;5;28;01mraise\u001b[39;00m \u001b[38;5;167;01mKeyError\u001b[39;00m(key) \u001b[38;5;28;01mfrom\u001b[39;00m \u001b[38;5;21;01merr\u001b[39;00m\n\u001b[0;32m   3656\u001b[0m \u001b[38;5;28;01mexcept\u001b[39;00m \u001b[38;5;167;01mTypeError\u001b[39;00m:\n\u001b[0;32m   3657\u001b[0m     \u001b[38;5;66;03m# If we have a listlike key, _check_indexing_error will raise\u001b[39;00m\n\u001b[0;32m   3658\u001b[0m     \u001b[38;5;66;03m#  InvalidIndexError. Otherwise we fall through and re-raise\u001b[39;00m\n\u001b[0;32m   3659\u001b[0m     \u001b[38;5;66;03m#  the TypeError.\u001b[39;00m\n\u001b[0;32m   3660\u001b[0m     \u001b[38;5;28mself\u001b[39m\u001b[38;5;241m.\u001b[39m_check_indexing_error(key)\n",
      "\u001b[1;31mKeyError\u001b[0m: 'timestamp'"
     ]
    }
   ],
   "source": [
    "data['t'] = (data['timestamp'].astype(np.int64)/1e11).astype(np.int64)\n",
    "data.drop('timestamp', axis=1, inplace=True)\n",
    "data"
   ]
  },
  {
   "cell_type": "code",
   "execution_count": 40,
   "metadata": {},
   "outputs": [],
   "source": [
    "data['gap_holiday'] = [i.days for i in data['gap_holiday']]"
   ]
  },
  {
   "cell_type": "code",
   "execution_count": 30,
   "metadata": {},
   "outputs": [],
   "source": [
    "cont_vars = ['value', 'hour_min', 'gap_holiday', 't']\n",
    "cat_vars = ['day', 'month', 'day_of_week', 'holiday']"
   ]
  },
  {
   "cell_type": "code",
   "execution_count": 42,
   "metadata": {},
   "outputs": [
    {
     "data": {
      "text/html": [
       "<div>\n",
       "<style scoped>\n",
       "    .dataframe tbody tr th:only-of-type {\n",
       "        vertical-align: middle;\n",
       "    }\n",
       "\n",
       "    .dataframe tbody tr th {\n",
       "        vertical-align: top;\n",
       "    }\n",
       "\n",
       "    .dataframe thead th {\n",
       "        text-align: right;\n",
       "    }\n",
       "</style>\n",
       "<table border=\"1\" class=\"dataframe\">\n",
       "  <thead>\n",
       "    <tr style=\"text-align: right;\">\n",
       "      <th></th>\n",
       "      <th>value</th>\n",
       "      <th>day</th>\n",
       "      <th>month</th>\n",
       "      <th>hour_min</th>\n",
       "      <th>day_of_week</th>\n",
       "      <th>holiday</th>\n",
       "      <th>hol_0</th>\n",
       "      <th>hol_1</th>\n",
       "      <th>gap_holiday</th>\n",
       "      <th>t</th>\n",
       "    </tr>\n",
       "  </thead>\n",
       "  <tbody>\n",
       "    <tr>\n",
       "      <th>0</th>\n",
       "      <td>73.967322</td>\n",
       "      <td>1</td>\n",
       "      <td>2</td>\n",
       "      <td>21.250000</td>\n",
       "      <td>0</td>\n",
       "      <td>0</td>\n",
       "      <td>-23 days, 0:00:00</td>\n",
       "      <td>-30 days, 0:00:00</td>\n",
       "      <td>-23</td>\n",
       "      <td>13860189</td>\n",
       "    </tr>\n",
       "    <tr>\n",
       "      <th>1</th>\n",
       "      <td>74.935882</td>\n",
       "      <td>1</td>\n",
       "      <td>2</td>\n",
       "      <td>21.333333</td>\n",
       "      <td>0</td>\n",
       "      <td>0</td>\n",
       "      <td>-23 days, 0:00:00</td>\n",
       "      <td>-30 days, 0:00:00</td>\n",
       "      <td>-23</td>\n",
       "      <td>13860192</td>\n",
       "    </tr>\n",
       "    <tr>\n",
       "      <th>2</th>\n",
       "      <td>76.124162</td>\n",
       "      <td>1</td>\n",
       "      <td>2</td>\n",
       "      <td>21.416667</td>\n",
       "      <td>0</td>\n",
       "      <td>0</td>\n",
       "      <td>-23 days, 0:00:00</td>\n",
       "      <td>-30 days, 0:00:00</td>\n",
       "      <td>-23</td>\n",
       "      <td>13860195</td>\n",
       "    </tr>\n",
       "    <tr>\n",
       "      <th>3</th>\n",
       "      <td>78.140707</td>\n",
       "      <td>1</td>\n",
       "      <td>2</td>\n",
       "      <td>21.500000</td>\n",
       "      <td>0</td>\n",
       "      <td>0</td>\n",
       "      <td>-23 days, 0:00:00</td>\n",
       "      <td>-30 days, 0:00:00</td>\n",
       "      <td>-23</td>\n",
       "      <td>13860198</td>\n",
       "    </tr>\n",
       "    <tr>\n",
       "      <th>4</th>\n",
       "      <td>79.329836</td>\n",
       "      <td>1</td>\n",
       "      <td>2</td>\n",
       "      <td>21.583333</td>\n",
       "      <td>0</td>\n",
       "      <td>0</td>\n",
       "      <td>-23 days, 0:00:00</td>\n",
       "      <td>-30 days, 0:00:00</td>\n",
       "      <td>-23</td>\n",
       "      <td>13860201</td>\n",
       "    </tr>\n",
       "    <tr>\n",
       "      <th>...</th>\n",
       "      <td>...</td>\n",
       "      <td>...</td>\n",
       "      <td>...</td>\n",
       "      <td>...</td>\n",
       "      <td>...</td>\n",
       "      <td>...</td>\n",
       "      <td>...</td>\n",
       "      <td>...</td>\n",
       "      <td>...</td>\n",
       "      <td>...</td>\n",
       "    </tr>\n",
       "    <tr>\n",
       "      <th>22690</th>\n",
       "      <td>98.185415</td>\n",
       "      <td>18</td>\n",
       "      <td>1</td>\n",
       "      <td>15.083333</td>\n",
       "      <td>2</td>\n",
       "      <td>0</td>\n",
       "      <td>56 days, 0:00:00</td>\n",
       "      <td>49 days, 0:00:00</td>\n",
       "      <td>49</td>\n",
       "      <td>13928223</td>\n",
       "    </tr>\n",
       "    <tr>\n",
       "      <th>22691</th>\n",
       "      <td>97.804168</td>\n",
       "      <td>18</td>\n",
       "      <td>1</td>\n",
       "      <td>15.166667</td>\n",
       "      <td>2</td>\n",
       "      <td>0</td>\n",
       "      <td>56 days, 0:00:00</td>\n",
       "      <td>49 days, 0:00:00</td>\n",
       "      <td>49</td>\n",
       "      <td>13928226</td>\n",
       "    </tr>\n",
       "    <tr>\n",
       "      <th>22692</th>\n",
       "      <td>97.135468</td>\n",
       "      <td>18</td>\n",
       "      <td>1</td>\n",
       "      <td>15.250000</td>\n",
       "      <td>2</td>\n",
       "      <td>0</td>\n",
       "      <td>56 days, 0:00:00</td>\n",
       "      <td>49 days, 0:00:00</td>\n",
       "      <td>49</td>\n",
       "      <td>13928229</td>\n",
       "    </tr>\n",
       "    <tr>\n",
       "      <th>22693</th>\n",
       "      <td>98.056852</td>\n",
       "      <td>18</td>\n",
       "      <td>1</td>\n",
       "      <td>15.333333</td>\n",
       "      <td>2</td>\n",
       "      <td>0</td>\n",
       "      <td>56 days, 0:00:00</td>\n",
       "      <td>49 days, 0:00:00</td>\n",
       "      <td>49</td>\n",
       "      <td>13928232</td>\n",
       "    </tr>\n",
       "    <tr>\n",
       "      <th>22694</th>\n",
       "      <td>96.903861</td>\n",
       "      <td>18</td>\n",
       "      <td>1</td>\n",
       "      <td>15.416667</td>\n",
       "      <td>2</td>\n",
       "      <td>0</td>\n",
       "      <td>56 days, 0:00:00</td>\n",
       "      <td>49 days, 0:00:00</td>\n",
       "      <td>49</td>\n",
       "      <td>13928235</td>\n",
       "    </tr>\n",
       "  </tbody>\n",
       "</table>\n",
       "<p>22695 rows × 10 columns</p>\n",
       "</div>"
      ],
      "text/plain": [
       "           value  day  month   hour_min  day_of_week  holiday  \\\n",
       "0      73.967322    1      2  21.250000            0        0   \n",
       "1      74.935882    1      2  21.333333            0        0   \n",
       "2      76.124162    1      2  21.416667            0        0   \n",
       "3      78.140707    1      2  21.500000            0        0   \n",
       "4      79.329836    1      2  21.583333            0        0   \n",
       "...          ...  ...    ...        ...          ...      ...   \n",
       "22690  98.185415   18      1  15.083333            2        0   \n",
       "22691  97.804168   18      1  15.166667            2        0   \n",
       "22692  97.135468   18      1  15.250000            2        0   \n",
       "22693  98.056852   18      1  15.333333            2        0   \n",
       "22694  96.903861   18      1  15.416667            2        0   \n",
       "\n",
       "                   hol_0              hol_1  gap_holiday         t  \n",
       "0      -23 days, 0:00:00  -30 days, 0:00:00          -23  13860189  \n",
       "1      -23 days, 0:00:00  -30 days, 0:00:00          -23  13860192  \n",
       "2      -23 days, 0:00:00  -30 days, 0:00:00          -23  13860195  \n",
       "3      -23 days, 0:00:00  -30 days, 0:00:00          -23  13860198  \n",
       "4      -23 days, 0:00:00  -30 days, 0:00:00          -23  13860201  \n",
       "...                  ...                ...          ...       ...  \n",
       "22690   56 days, 0:00:00   49 days, 0:00:00           49  13928223  \n",
       "22691   56 days, 0:00:00   49 days, 0:00:00           49  13928226  \n",
       "22692   56 days, 0:00:00   49 days, 0:00:00           49  13928229  \n",
       "22693   56 days, 0:00:00   49 days, 0:00:00           49  13928232  \n",
       "22694   56 days, 0:00:00   49 days, 0:00:00           49  13928235  \n",
       "\n",
       "[22695 rows x 10 columns]"
      ]
     },
     "execution_count": 42,
     "metadata": {},
     "output_type": "execute_result"
    }
   ],
   "source": [
    "from sklearn.preprocessing import LabelEncoder\n",
    "\n",
    "label_encoders = [LabelEncoder() for _ in cat_vars] \n",
    "for col, enc in zip(cat_vars, label_encoders):\n",
    "    data[col] = enc.fit_transform(data[col])\n",
    "    \n",
    "data"
   ]
  },
  {
   "cell_type": "code",
   "execution_count": 43,
   "metadata": {},
   "outputs": [],
   "source": [
    "test_ratio = 0.3"
   ]
  },
  {
   "cell_type": "code",
   "execution_count": 44,
   "metadata": {},
   "outputs": [],
   "source": [
    "tr_data = data.iloc[: int(len(data) * (1 - test_ratio))]\n",
    "tst_data = data.iloc[int(len(data) * (1 - test_ratio)) :]"
   ]
  },
  {
   "cell_type": "code",
   "execution_count": 45,
   "metadata": {},
   "outputs": [],
   "source": [
    "scaler = preprocessing.StandardScaler().fit(tr_data[cont_vars])"
   ]
  },
  {
   "cell_type": "code",
   "execution_count": 47,
   "metadata": {},
   "outputs": [],
   "source": [
    "tr_data_scaled = tr_data.copy()\n",
    "tr_data_scaled[cont_vars] = scaler.transform(tr_data[cont_vars])\n",
    "tst_data_scaled = tst_data.copy()\n",
    "tst_data_scaled[cont_vars] = scaler.transform(tst_data[cont_vars])"
   ]
  },
  {
   "cell_type": "code",
   "execution_count": 48,
   "metadata": {},
   "outputs": [
    {
     "data": {
      "text/html": [
       "<div>\n",
       "<style scoped>\n",
       "    .dataframe tbody tr th:only-of-type {\n",
       "        vertical-align: middle;\n",
       "    }\n",
       "\n",
       "    .dataframe tbody tr th {\n",
       "        vertical-align: top;\n",
       "    }\n",
       "\n",
       "    .dataframe thead th {\n",
       "        text-align: right;\n",
       "    }\n",
       "</style>\n",
       "<table border=\"1\" class=\"dataframe\">\n",
       "  <thead>\n",
       "    <tr style=\"text-align: right;\">\n",
       "      <th></th>\n",
       "      <th>value</th>\n",
       "      <th>day</th>\n",
       "      <th>month</th>\n",
       "      <th>hour_min</th>\n",
       "      <th>day_of_week</th>\n",
       "      <th>holiday</th>\n",
       "      <th>hol_0</th>\n",
       "      <th>hol_1</th>\n",
       "      <th>gap_holiday</th>\n",
       "      <th>t</th>\n",
       "    </tr>\n",
       "  </thead>\n",
       "  <tbody>\n",
       "    <tr>\n",
       "      <th>0</th>\n",
       "      <td>73.967322</td>\n",
       "      <td>1</td>\n",
       "      <td>2</td>\n",
       "      <td>21.250000</td>\n",
       "      <td>0</td>\n",
       "      <td>0</td>\n",
       "      <td>-23 days, 0:00:00</td>\n",
       "      <td>-30 days, 0:00:00</td>\n",
       "      <td>-23</td>\n",
       "      <td>13860189</td>\n",
       "    </tr>\n",
       "    <tr>\n",
       "      <th>1</th>\n",
       "      <td>74.935882</td>\n",
       "      <td>1</td>\n",
       "      <td>2</td>\n",
       "      <td>21.333333</td>\n",
       "      <td>0</td>\n",
       "      <td>0</td>\n",
       "      <td>-23 days, 0:00:00</td>\n",
       "      <td>-30 days, 0:00:00</td>\n",
       "      <td>-23</td>\n",
       "      <td>13860192</td>\n",
       "    </tr>\n",
       "    <tr>\n",
       "      <th>2</th>\n",
       "      <td>76.124162</td>\n",
       "      <td>1</td>\n",
       "      <td>2</td>\n",
       "      <td>21.416667</td>\n",
       "      <td>0</td>\n",
       "      <td>0</td>\n",
       "      <td>-23 days, 0:00:00</td>\n",
       "      <td>-30 days, 0:00:00</td>\n",
       "      <td>-23</td>\n",
       "      <td>13860195</td>\n",
       "    </tr>\n",
       "    <tr>\n",
       "      <th>3</th>\n",
       "      <td>78.140707</td>\n",
       "      <td>1</td>\n",
       "      <td>2</td>\n",
       "      <td>21.500000</td>\n",
       "      <td>0</td>\n",
       "      <td>0</td>\n",
       "      <td>-23 days, 0:00:00</td>\n",
       "      <td>-30 days, 0:00:00</td>\n",
       "      <td>-23</td>\n",
       "      <td>13860198</td>\n",
       "    </tr>\n",
       "    <tr>\n",
       "      <th>4</th>\n",
       "      <td>79.329836</td>\n",
       "      <td>1</td>\n",
       "      <td>2</td>\n",
       "      <td>21.583333</td>\n",
       "      <td>0</td>\n",
       "      <td>0</td>\n",
       "      <td>-23 days, 0:00:00</td>\n",
       "      <td>-30 days, 0:00:00</td>\n",
       "      <td>-23</td>\n",
       "      <td>13860201</td>\n",
       "    </tr>\n",
       "  </tbody>\n",
       "</table>\n",
       "</div>"
      ],
      "text/plain": [
       "       value  day  month   hour_min  day_of_week  holiday              hol_0  \\\n",
       "0  73.967322    1      2  21.250000            0        0  -23 days, 0:00:00   \n",
       "1  74.935882    1      2  21.333333            0        0  -23 days, 0:00:00   \n",
       "2  76.124162    1      2  21.416667            0        0  -23 days, 0:00:00   \n",
       "3  78.140707    1      2  21.500000            0        0  -23 days, 0:00:00   \n",
       "4  79.329836    1      2  21.583333            0        0  -23 days, 0:00:00   \n",
       "\n",
       "               hol_1  gap_holiday         t  \n",
       "0  -30 days, 0:00:00          -23  13860189  \n",
       "1  -30 days, 0:00:00          -23  13860192  \n",
       "2  -30 days, 0:00:00          -23  13860195  \n",
       "3  -30 days, 0:00:00          -23  13860198  \n",
       "4  -30 days, 0:00:00          -23  13860201  "
      ]
     },
     "execution_count": 48,
     "metadata": {},
     "output_type": "execute_result"
    }
   ],
   "source": [
    "tr_data.head()"
   ]
  },
  {
   "cell_type": "code",
   "execution_count": 49,
   "metadata": {},
   "outputs": [
    {
     "data": {
      "text/html": [
       "<div>\n",
       "<style scoped>\n",
       "    .dataframe tbody tr th:only-of-type {\n",
       "        vertical-align: middle;\n",
       "    }\n",
       "\n",
       "    .dataframe tbody tr th {\n",
       "        vertical-align: top;\n",
       "    }\n",
       "\n",
       "    .dataframe thead th {\n",
       "        text-align: right;\n",
       "    }\n",
       "</style>\n",
       "<table border=\"1\" class=\"dataframe\">\n",
       "  <thead>\n",
       "    <tr style=\"text-align: right;\">\n",
       "      <th></th>\n",
       "      <th>value</th>\n",
       "      <th>day</th>\n",
       "      <th>month</th>\n",
       "      <th>hour_min</th>\n",
       "      <th>day_of_week</th>\n",
       "      <th>holiday</th>\n",
       "      <th>hol_0</th>\n",
       "      <th>hol_1</th>\n",
       "      <th>gap_holiday</th>\n",
       "      <th>t</th>\n",
       "    </tr>\n",
       "  </thead>\n",
       "  <tbody>\n",
       "    <tr>\n",
       "      <th>0</th>\n",
       "      <td>-1.224398</td>\n",
       "      <td>1</td>\n",
       "      <td>2</td>\n",
       "      <td>1.336685</td>\n",
       "      <td>0</td>\n",
       "      <td>0</td>\n",
       "      <td>-23 days, 0:00:00</td>\n",
       "      <td>-30 days, 0:00:00</td>\n",
       "      <td>-1.866199</td>\n",
       "      <td>-1.732808</td>\n",
       "    </tr>\n",
       "    <tr>\n",
       "      <th>1</th>\n",
       "      <td>-1.134136</td>\n",
       "      <td>1</td>\n",
       "      <td>2</td>\n",
       "      <td>1.348691</td>\n",
       "      <td>0</td>\n",
       "      <td>0</td>\n",
       "      <td>-23 days, 0:00:00</td>\n",
       "      <td>-30 days, 0:00:00</td>\n",
       "      <td>-1.866199</td>\n",
       "      <td>-1.732590</td>\n",
       "    </tr>\n",
       "    <tr>\n",
       "      <th>2</th>\n",
       "      <td>-1.023399</td>\n",
       "      <td>1</td>\n",
       "      <td>2</td>\n",
       "      <td>1.360698</td>\n",
       "      <td>0</td>\n",
       "      <td>0</td>\n",
       "      <td>-23 days, 0:00:00</td>\n",
       "      <td>-30 days, 0:00:00</td>\n",
       "      <td>-1.866199</td>\n",
       "      <td>-1.732372</td>\n",
       "    </tr>\n",
       "    <tr>\n",
       "      <th>3</th>\n",
       "      <td>-0.835474</td>\n",
       "      <td>1</td>\n",
       "      <td>2</td>\n",
       "      <td>1.372704</td>\n",
       "      <td>0</td>\n",
       "      <td>0</td>\n",
       "      <td>-23 days, 0:00:00</td>\n",
       "      <td>-30 days, 0:00:00</td>\n",
       "      <td>-1.866199</td>\n",
       "      <td>-1.732153</td>\n",
       "    </tr>\n",
       "    <tr>\n",
       "      <th>4</th>\n",
       "      <td>-0.724658</td>\n",
       "      <td>1</td>\n",
       "      <td>2</td>\n",
       "      <td>1.384711</td>\n",
       "      <td>0</td>\n",
       "      <td>0</td>\n",
       "      <td>-23 days, 0:00:00</td>\n",
       "      <td>-30 days, 0:00:00</td>\n",
       "      <td>-1.866199</td>\n",
       "      <td>-1.731935</td>\n",
       "    </tr>\n",
       "  </tbody>\n",
       "</table>\n",
       "</div>"
      ],
      "text/plain": [
       "      value  day  month  hour_min  day_of_week  holiday              hol_0  \\\n",
       "0 -1.224398    1      2  1.336685            0        0  -23 days, 0:00:00   \n",
       "1 -1.134136    1      2  1.348691            0        0  -23 days, 0:00:00   \n",
       "2 -1.023399    1      2  1.360698            0        0  -23 days, 0:00:00   \n",
       "3 -0.835474    1      2  1.372704            0        0  -23 days, 0:00:00   \n",
       "4 -0.724658    1      2  1.384711            0        0  -23 days, 0:00:00   \n",
       "\n",
       "               hol_1  gap_holiday         t  \n",
       "0  -30 days, 0:00:00    -1.866199 -1.732808  \n",
       "1  -30 days, 0:00:00    -1.866199 -1.732590  \n",
       "2  -30 days, 0:00:00    -1.866199 -1.732372  \n",
       "3  -30 days, 0:00:00    -1.866199 -1.732153  \n",
       "4  -30 days, 0:00:00    -1.866199 -1.731935  "
      ]
     },
     "execution_count": 49,
     "metadata": {},
     "output_type": "execute_result"
    }
   ],
   "source": [
    "tr_data_scaled.head()"
   ]
  },
  {
   "cell_type": "code",
   "execution_count": 50,
   "metadata": {},
   "outputs": [],
   "source": [
    "tr_data_scaled.to_csv(os.path.join(os.getcwd(), 'train.csv'), index=False)\n",
    "tst_data_scaled.to_csv(os.path.join(os.getcwd(), 'test.csv'), index=False)"
   ]
  },
  {
   "cell_type": "code",
   "execution_count": 53,
   "metadata": {},
   "outputs": [],
   "source": [
    "class TSDataset(Dataset):\n",
    "    def __init__(self, split, cont_vars=None, cat_vars=None, lbl_as_feat=True):\n",
    "        \"\"\"\n",
    "        split: 'train' if we want to get data from the training examples, 'test' for\n",
    "        test examples, or 'both' to merge the training and test sets and return samples\n",
    "        from either.\n",
    "        cont_vars: List of continuous variables to return as features. If None, returns\n",
    "        all continuous variables available.\n",
    "        cat_vars: Same as above, but for categorical variables.\n",
    "        lbl_as_feat: Set to True when training a VAE -- the labels (temperature values)\n",
    "        will be included as another dimension of the data. Set to False when training\n",
    "        a model to predict temperatures.\n",
    "        \"\"\"\n",
    "        super().__init__()\n",
    "        assert split in ['train', 'test', 'both']\n",
    "        self.lbl_as_feat = lbl_as_feat\n",
    "        if split == 'train':\n",
    "            self.df = pd.read_csv(os.path.join(os.getcwd(), 'train.csv'))\n",
    "        elif split == 'test':\n",
    "            self.df = pd.read_csv(os.path.join(os.getcwd(), 'test.csv'))\n",
    "        else:\n",
    "            df1 = pd.read_csv(os.path.join(os.getcwd(), 'train.csv'))\n",
    "            df2 = pd.read_csv(os.path.join(os.getcwd(), 'test.csv'))\n",
    "            self.df = pd.concat((df1, df2), ignore_index=True)\n",
    "        \n",
    "        # Select continuous variables to use\n",
    "        if cont_vars:\n",
    "            self.cont_vars = cont_vars\n",
    "            # If we want to use 'value' as a feature, ensure it is returned\n",
    "            if self.lbl_as_feat:\n",
    "                try:\n",
    "                    assert 'value' in self.cont_vars\n",
    "                except AssertionError:\n",
    "                    self.cont_vars.insert(0, 'value')\n",
    "            # If not, ensure it not returned as a feature\n",
    "            else:\n",
    "                try:\n",
    "                    assert 'value' not in self.cont_vars\n",
    "                except AssertionError:\n",
    "                    self.cont_vars.remove('value')\n",
    "                    \n",
    "        else:  # if no list provided, use all available\n",
    "            self.cont_vars = ['value', 'hour_min', 'gap_holiday', 't']\n",
    "        \n",
    "        # Select categorical variables to use\n",
    "        if cat_vars:\n",
    "            self.cat_vars = cat_vars\n",
    "        else:  # if no list provided, use all available\n",
    "            self.cat_vars = ['day', 'month', 'day_of_week', 'holiday']\n",
    "        \n",
    "        # Finally, make two Numpy arrays for continuous and categorical\n",
    "        # variables, respectively:\n",
    "        if self.lbl_as_feat:\n",
    "            self.cont = self.df[self.cont_vars].copy().to_numpy(dtype=np.float32)\n",
    "        else:\n",
    "            self.cont = self.df[self.cont_vars].copy().to_numpy(dtype=np.float32)\n",
    "            self.lbl = self.df['value'].copy().to_numpy(dtype=np.float32)\n",
    "        self.cat = self.df[self.cat_vars].copy().to_numpy(dtype=np.int64)\n",
    "            \n",
    "    def __getitem__(self, idx):\n",
    "        if self.lbl_as_feat:  # for VAE training\n",
    "            return torch.tensor(self.cont[idx]), torch.tensor(self.cat[idx])\n",
    "        else:  # for supervised prediction\n",
    "            return torch.tensor(self.cont[idx]), torch.tensor(self.cat[idx]), torch.tensor(self.lbl[idx])\n",
    "    \n",
    "    def __len__(self):\n",
    "        return self.df.shape[0]"
   ]
  },
  {
   "cell_type": "code",
   "execution_count": 54,
   "metadata": {},
   "outputs": [
    {
     "name": "stdout",
     "output_type": "stream",
     "text": [
      "22695\n",
      "(tensor([-1.2244, -1.7328]), tensor([0, 0]))\n",
      "(tensor([-1.1341, -1.7326]), tensor([0, 0]))\n",
      "(tensor([-1.0234, -1.7324]), tensor([0, 0]))\n",
      "(tensor([-0.8355, -1.7322]), tensor([0, 0]))\n",
      "(tensor([-0.7247, -1.7319]), tensor([0, 0]))\n",
      "(tensor([-0.7824, -1.7317]), tensor([0, 0]))\n",
      "(tensor([-0.6371, -1.7315]), tensor([0, 0]))\n",
      "(tensor([-0.6368, -1.7313]), tensor([0, 0]))\n",
      "(tensor([-0.6293, -1.7311]), tensor([0, 0]))\n",
      "(tensor([-0.7101, -1.7308]), tensor([0, 0]))\n"
     ]
    }
   ],
   "source": [
    "ds = TSDataset(split='both', cont_vars=['value', 't'], cat_vars=['day_of_week', 'holiday'], lbl_as_feat=True)\n",
    "print(len(ds))\n",
    "it = iter(ds)\n",
    "for _ in range(10):\n",
    "    print(next(it))"
   ]
  },
  {
   "cell_type": "code",
   "execution_count": 55,
   "metadata": {},
   "outputs": [],
   "source": [
    "class Layer(nn.Module):\n",
    "    '''\n",
    "    A single fully connected layer with optional batch normalisation and activation.\n",
    "    '''\n",
    "    def __init__(self, in_dim, out_dim, bn = True):\n",
    "        super().__init__()\n",
    "        layers = [nn.Linear(in_dim, out_dim)]\n",
    "        if bn: layers.append(nn.BatchNorm1d(out_dim))\n",
    "        layers.append(nn.LeakyReLU(0.1, inplace=True))\n",
    "        self.block = nn.Sequential(*layers)\n",
    "    \n",
    "    def forward(self, x):\n",
    "        return self.block(x)\n",
    "\n",
    "    \n",
    "class Encoder(nn.Module):\n",
    "    '''\n",
    "    The encoder part of our VAE. Takes a data sample and returns the mean and the log-variance of the \n",
    "    latent vector's distribution.\n",
    "    '''\n",
    "    def __init__(self, **hparams):\n",
    "        super().__init__()\n",
    "        self.hparams = Namespace(**hparams)\n",
    "        self.embeds = nn.ModuleList([\n",
    "            nn.Embedding(n_cats, emb_size) for (n_cats, emb_size) in self.hparams.embedding_sizes\n",
    "        ])\n",
    "        # The input to the first layer is the concatenation of all embedding vectors and continuous\n",
    "        # values\n",
    "        in_dim = sum(emb.embedding_dim for emb in self.embeds) + len(self.hparams.cont_vars)\n",
    "        layer_dims = [in_dim] + [int(s) for s in self.hparams.layer_sizes.split(',')]\n",
    "        bn = self.hparams.batch_norm\n",
    "        self.layers = nn.Sequential(\n",
    "            *[Layer(layer_dims[i], layer_dims[i + 1], bn) for i in range(len(layer_dims) - 1)],\n",
    "        )\n",
    "        self.mu = nn.Linear(layer_dims[-1], self.hparams.latent_dim)\n",
    "        self.logvar = nn.Linear(layer_dims[-1], self.hparams.latent_dim)\n",
    "    \n",
    "    def forward(self, x_cont, x_cat):\n",
    "        x_embed = [e(x_cat[:, i]) for i, e in enumerate(self.embeds)]        \n",
    "        x_embed = torch.cat(x_embed, dim=1)\n",
    "        x = torch.cat((x_embed, x_cont), dim=1)\n",
    "        h = self.layers(x)\n",
    "        mu_ = self.mu(h)\n",
    "        logvar_ = self.logvar(h)\n",
    "        return mu_, logvar_, x  # we return the concatenated input vector for use in loss fn\n",
    "    \n",
    "\n",
    "class Decoder(nn.Module):\n",
    "    '''\n",
    "    The decoder part of our VAE. Takes a latent vector (sampled from the distribution learned by the \n",
    "    encoder) and converts it back to a reconstructed data sample.\n",
    "    '''\n",
    "    def __init__(self, **hparams):\n",
    "        super().__init__()\n",
    "        self.hparams = Namespace(**hparams)\n",
    "        hidden_dims = [self.hparams.latent_dim] + [int(s) for s in reversed(self.hparams.layer_sizes.split(','))]\n",
    "        out_dim = sum(emb_size for _, emb_size in self.hparams.embedding_sizes) + len(self.hparams.cont_vars)\n",
    "        bn = self.hparams.batch_norm\n",
    "        self.layers = nn.Sequential(\n",
    "            *[Layer(hidden_dims[i], hidden_dims[i + 1], bn) for i in range(len(hidden_dims) - 1)],\n",
    "        )\n",
    "        self.reconstructed = nn.Linear(hidden_dims[-1], out_dim)\n",
    "        \n",
    "    def forward(self, z):\n",
    "        h = self.layers(z)\n",
    "        recon = self.reconstructed(h)\n",
    "        return recon"
   ]
  },
  {
   "cell_type": "code",
   "execution_count": 56,
   "metadata": {},
   "outputs": [],
   "source": [
    "class VAE(pl.LightningModule):\n",
    "    def __init__(self, **hparams):\n",
    "        super().__init__()\n",
    "        self.save_hyperparameters()\n",
    "        self.encoder = Encoder(**hparams)\n",
    "        self.decoder = Decoder(**hparams)\n",
    "        \n",
    "    def reparameterize(self, mu, logvar):\n",
    "        '''\n",
    "        The reparameterisation trick allows us to backpropagate through the encoder.\n",
    "        '''\n",
    "        if self.training:\n",
    "            std = torch.exp(0.5 * logvar)\n",
    "            eps = torch.randn_like(std) * self.hparams.stdev\n",
    "            return eps * std + mu\n",
    "        else:\n",
    "            return mu\n",
    "        \n",
    "    def forward(self, batch):\n",
    "        x_cont, x_cat = batch\n",
    "        assert x_cat.dtype == torch.int64\n",
    "        mu, logvar, x = self.encoder(x_cont, x_cat)\n",
    "        z = self.reparameterize(mu, logvar)\n",
    "        recon = self.decoder(z)\n",
    "        return recon, mu, logvar, x\n",
    "        \n",
    "    def loss_function(self, obs, recon, mu, logvar):\n",
    "        recon_loss = F.smooth_l1_loss(recon, obs, reduction='mean')\n",
    "        kld = -0.5 * torch.mean(1 + logvar - mu ** 2 - logvar.exp())\n",
    "        return recon_loss, kld\n",
    "                               \n",
    "    def training_step(self, batch, batch_idx):\n",
    "        recon, mu, logvar, x = self.forward(batch)\n",
    "        # The loss function compares the concatenated input vector including\n",
    "        # embeddings to the reconstructed vector\n",
    "        recon_loss, kld = self.loss_function(x, recon, mu, logvar)\n",
    "        loss = recon_loss + self.hparams.kld_beta * kld\n",
    "\n",
    "        self.log('total_loss', loss.mean(dim=0), on_step=True, prog_bar=True, \n",
    "                 logger=True)\n",
    "        self.log('recon_loss', recon_loss.mean(dim=0), on_step=True, prog_bar=True, \n",
    "                 logger=True)\n",
    "        self.log('kld', kld.mean(dim=0), on_step=True, prog_bar=True, logger=True)\n",
    "        return loss\n",
    "    \n",
    "    def test_step(self, batch, batch_idx):\n",
    "        recon, mu, logvar, x = self.forward(batch)\n",
    "        recon_loss, kld = self.loss_function(x, recon, mu, logvar)\n",
    "        loss = recon_loss + self.hparams.kld_beta * kld\n",
    "        self.log('test_loss', loss)\n",
    "        return loss\n",
    "        \n",
    "    def configure_optimizers(self):\n",
    "        opt = torch.optim.AdamW(self.parameters(), lr=self.hparams.lr, \n",
    "                                weight_decay=self.hparams.weight_decay, \n",
    "                                eps=1e-4)\n",
    "        sch = torch.optim.lr_scheduler.CosineAnnealingWarmRestarts(\n",
    "            opt, T_0=25, T_mult=1, eta_min=1e-9, last_epoch=-1)\n",
    "        return [opt], [sch]\n",
    "    \n",
    "    def train_dataloader(self):\n",
    "        dataset = TSDataset('train', cont_vars=self.hparams.cont_vars, \n",
    "            cat_vars = self.hparams.cat_vars, lbl_as_feat=True\n",
    "        )\n",
    "        return DataLoader(dataset, batch_size=self.hparams.batch_size, num_workers=2, \n",
    "            pin_memory=True, persistent_workers=True, shuffle=True\n",
    "        )\n",
    "    \n",
    "    def test_dataloader(self):\n",
    "        dataset = TSDataset('test', cont_vars=self.hparams.cont_vars,\n",
    "            cat_vars=self.hparams.cat_vars, lbl_as_feat=True\n",
    "        )\n",
    "        return DataLoader(dataset, batch_size=self.hparams.batch_size, num_workers=2, \n",
    "            pin_memory=True, persistent_workers=True\n",
    "        )"
   ]
  },
  {
   "cell_type": "code",
   "execution_count": 57,
   "metadata": {},
   "outputs": [],
   "source": [
    "cont_features = ['value', 'hour_min', 'gap_holiday', 't'] \n",
    "cat_features = ['day_of_week', 'holiday']  # Remember that we removed `day` and `month`\n",
    "\n",
    "embed_cats = [len(tr_data_scaled[c].unique()) for c in cat_features]\n",
    "\n",
    "hparams = OrderedDict(\n",
    "    run='embsz16_latsz16_bsz128_lay64-128-256-128-64_ep100_cosineWR_v1',\n",
    "    cont_vars = cont_features,\n",
    "    cat_vars = cat_features,\n",
    "    embedding_sizes = [(embed_cats[i], 16) for i in range(len(embed_cats))],\n",
    "    latent_dim = 16,\n",
    "    layer_sizes = '64,128,256,128,64',\n",
    "    batch_norm = True,\n",
    "    stdev = 0.1,\n",
    "    kld_beta = 0.05,\n",
    "    lr = 0.001,\n",
    "    weight_decay = 1e-5,\n",
    "    batch_size = 128,\n",
    "    epochs = 60,\n",
    ")"
   ]
  },
  {
   "cell_type": "code",
   "execution_count": 58,
   "metadata": {},
   "outputs": [
    {
     "data": {
      "text/plain": [
       "OrderedDict([('run',\n",
       "              'embsz16_latsz16_bsz128_lay64-128-256-128-64_ep100_cosineWR_v1'),\n",
       "             ('cont_vars', ['value', 'hour_min', 'gap_holiday', 't']),\n",
       "             ('cat_vars', ['day_of_week', 'holiday']),\n",
       "             ('embedding_sizes', [(7, 16), (2, 16)]),\n",
       "             ('latent_dim', 16),\n",
       "             ('layer_sizes', '64,128,256,128,64'),\n",
       "             ('batch_norm', True),\n",
       "             ('stdev', 0.1),\n",
       "             ('kld_beta', 0.05),\n",
       "             ('lr', 0.001),\n",
       "             ('weight_decay', 1e-05),\n",
       "             ('batch_size', 128),\n",
       "             ('epochs', 60)])"
      ]
     },
     "execution_count": 58,
     "metadata": {},
     "output_type": "execute_result"
    }
   ],
   "source": [
    "hparams"
   ]
  },
  {
   "cell_type": "code",
   "execution_count": 67,
   "metadata": {},
   "outputs": [
    {
     "name": "stderr",
     "output_type": "stream",
     "text": [
      "GPU available: False, used: False\n",
      "TPU available: False, using: 0 TPU cores\n",
      "IPU available: False, using: 0 IPUs\n",
      "HPU available: False, using: 0 HPUs\n"
     ]
    }
   ],
   "source": [
    "model = VAE(**hparams)\n",
    "# logger = WandbLogger(name=hparams['run'], project='VAE_Anomaly', version=hparams['run'],\n",
    "#      save_dir='kaggle/working/checkpoints'\n",
    "# )\n",
    "ckpt_callback = pl.callbacks.ModelCheckpoint(dirpath='.', filename='vae_weights')\n",
    "# Replace argument logger by None if you don't have a WandB account (and don't want to create one)\n",
    "trainer = pl.Trainer(\n",
    "    # accelerator='gpu', \n",
    "    devices=1, \n",
    "    # strategy='dp', \n",
    "    # logger=logger,  \n",
    "    max_epochs=hparams['epochs'], \n",
    "    # auto_lr_find=False, \n",
    "    benchmark=True,\n",
    "    callbacks=[ckpt_callback], \n",
    "    gradient_clip_val=10., \n",
    "    enable_model_summary=True\n",
    "    )"
   ]
  },
  {
   "cell_type": "code",
   "execution_count": null,
   "metadata": {},
   "outputs": [
    {
     "name": "stderr",
     "output_type": "stream",
     "text": [
      "Missing logger folder: c:\\Users\\jedre\\OneDrive\\Pulpit\\State_Street\\Programs\\Python\\ML_Research_Project_2024\\VAE\\.vscode\\lightning_logs\n",
      "c:\\Users\\jedre\\miniconda3\\envs\\GluonTS\\lib\\site-packages\\pytorch_lightning\\callbacks\\model_checkpoint.py:612: UserWarning: Checkpoint directory . exists and is not empty.\n",
      "  rank_zero_warn(f\"Checkpoint directory {dirpath} exists and is not empty.\")\n",
      "\n",
      "  | Name    | Type    | Params\n",
      "------------------------------------\n",
      "0 | encoder | Encoder | 88.4 K\n",
      "1 | decoder | Decoder | 87.2 K\n",
      "------------------------------------\n",
      "175 K     Trainable params\n",
      "0         Non-trainable params\n",
      "175 K     Total params\n",
      "0.702     Total estimated model params size (MB)\n"
     ]
    }
   ],
   "source": [
    "trainer.fit(model)"
   ]
  },
  {
   "cell_type": "code",
   "execution_count": null,
   "metadata": {},
   "outputs": [],
   "source": [
    "trainer.test(model)"
   ]
  },
  {
   "cell_type": "code",
   "execution_count": null,
   "metadata": {},
   "outputs": [],
   "source": [
    "dataset = TSDataset('test', cont_vars=hparams['cont_vars'],\n",
    "                    cat_vars=['day_of_week', 'holiday'],\n",
    "                    lbl_as_feat=True) "
   ]
  },
  {
   "cell_type": "code",
   "execution_count": null,
   "metadata": {},
   "outputs": [],
   "source": [
    "trained_model = VAE.load_from_checkpoint('./vae_weights-v1.ckpt')\n",
    "trained_model.freeze()\n",
    "\n",
    "losses = []\n",
    "# run predictions for the training set examples\n",
    "for i in range(len(dataset)):\n",
    "    x_cont, x_cat = dataset[i]\n",
    "    x_cont.unsqueeze_(0)\n",
    "    x_cat.unsqueeze_(0)\n",
    "    recon, mu, logvar, x = trained_model.forward((x_cont, x_cat))\n",
    "    recon_loss, kld = trained_model.loss_function(x, recon, mu, logvar)\n",
    "    losses.append(recon_loss + trained_model.hparams.kld_beta * kld)\n",
    "    \n",
    "data_with_losses = dataset.df\n",
    "data_with_losses['loss'] = np.asarray(losses)\n",
    "data_with_losses.sort_values('t', inplace=True)\n",
    "data_with_losses.head()"
   ]
  },
  {
   "cell_type": "code",
   "execution_count": null,
   "metadata": {},
   "outputs": [],
   "source": [
    "mean, sigma = data_with_losses['loss'].mean(), data_with_losses['loss'].std()\n",
    "mean, sigma"
   ]
  },
  {
   "cell_type": "code",
   "execution_count": null,
   "metadata": {},
   "outputs": [],
   "source": [
    "quant = 0.999\n",
    "thresh = data_with_losses['loss'].quantile(quant)  # threshold for anomaly (quantile).\n",
    "thresh"
   ]
  },
  {
   "cell_type": "code",
   "execution_count": null,
   "metadata": {},
   "outputs": [],
   "source": [
    "data_with_losses['anomaly'] = data_with_losses['loss'] > thresh\n",
    "print(data_with_losses.head())"
   ]
  },
  {
   "cell_type": "code",
   "execution_count": null,
   "metadata": {},
   "outputs": [],
   "source": [
    "plt.figure(figsize=(8, 8))\n",
    "anomalies_loss = data_with_losses.loc[data_with_losses['anomaly'], 'loss']\n",
    "normals_loss   = data_with_losses.loc[~data_with_losses['anomaly'], 'loss']\n",
    "plt.hist([normals_loss, anomalies_loss], bins=200, stacked=True, label=['normal', 'abnormal'])\n",
    "plt.title(\"Distribution of Reconstruction Loss, Test Set\")\n",
    "plt.xlabel(\"VAE Reconstruction Loss (binned)\")\n",
    "plt.ylabel(\"Count\")\n",
    "plt.legend();"
   ]
  },
  {
   "cell_type": "code",
   "execution_count": null,
   "metadata": {},
   "outputs": [],
   "source": [
    "data_with_losses_unscaled = data_with_losses.copy()\n",
    "data_with_losses_unscaled[cont_vars] = scaler.inverse_transform(data_with_losses[cont_vars])\n",
    "for enc, var in zip(label_encoders, cat_vars):\n",
    "    data_with_losses_unscaled[var] = enc.inverse_transform(data_with_losses[var])\n",
    "data_with_losses_unscaled = pd.DataFrame(data_with_losses_unscaled, columns=data_with_losses.columns)\n",
    "data_with_losses_unscaled['timestamp'] = pd.to_datetime(data_with_losses_unscaled['t'] * 1e11, unit='ns')\n",
    "\n",
    "print(data_with_losses_unscaled.head())"
   ]
  },
  {
   "cell_type": "code",
   "execution_count": null,
   "metadata": {},
   "outputs": [],
   "source": [
    "anomalies_value = data_with_losses_unscaled.loc[data_with_losses_unscaled['anomaly'], ['loss','value']]\n",
    "normals_value = data_with_losses_unscaled.loc[~data_with_losses_unscaled['anomaly'], ['loss','value']]\n",
    "plt.figure(figsize=(8,8))\n",
    "plt.hist([normals_value['value'], anomalies_value['value']], bins=200, stacked=True, label=['normal', 'abnormal'])\n",
    "plt.title(\"Temperature Distribution, Test Set\")\n",
    "plt.xlabel(\"Temperature (binned)\")\n",
    "plt.ylabel(\"Count\")\n",
    "plt.legend()\n",
    ";"
   ]
  },
  {
   "cell_type": "code",
   "execution_count": null,
   "metadata": {},
   "outputs": [],
   "source": [
    "anomalies_ts = data_with_losses_unscaled.loc[data_with_losses_unscaled['anomaly'], ('timestamp', 'value')]\n",
    "fig, ax = plt.subplots(figsize=(12, 8))\n",
    "ax.plot(data_with_losses_unscaled['timestamp'], data_with_losses_unscaled['value'], alpha=.5)\n",
    "ax.scatter(anomalies_ts['timestamp'], anomalies_ts['value'], color='red', label='anomaly')\n",
    "plt.legend()\n",
    "plt.xlabel(\"timestamp\")\n",
    "plt.ylabel(\"temperature\")\n",
    "plt.title(\"Location of the Anomalies on the Time Series, Test Period\");"
   ]
  },
  {
   "cell_type": "code",
   "execution_count": null,
   "metadata": {},
   "outputs": [],
   "source": []
  }
 ],
 "metadata": {
  "kernelspec": {
   "display_name": "GluonTS",
   "language": "python",
   "name": "python3"
  },
  "language_info": {
   "codemirror_mode": {
    "name": "ipython",
    "version": 3
   },
   "file_extension": ".py",
   "mimetype": "text/x-python",
   "name": "python",
   "nbconvert_exporter": "python",
   "pygments_lexer": "ipython3",
   "version": "3.9.19"
  }
 },
 "nbformat": 4,
 "nbformat_minor": 2
}
