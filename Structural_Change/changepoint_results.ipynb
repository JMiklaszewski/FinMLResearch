{
 "cells": [
  {
   "cell_type": "code",
   "execution_count": 1,
   "metadata": {},
   "outputs": [],
   "source": [
    "import pandas as pd\n",
    "import os"
   ]
  },
  {
   "cell_type": "code",
   "execution_count": 28,
   "metadata": {},
   "outputs": [],
   "source": [
    "non_param_cusum_path = os.path.join(os.getcwd(), 'non_parametric_cusum')\n",
    "nonparam_cusum_ret = pd.read_csv(os.path.join(non_param_cusum_path, 'nonp_cusum_results_spx_ret.csv'), index_col=0, parse_dates=True)\n",
    "nonparam_cusum_vol = pd.read_csv(os.path.join(non_param_cusum_path, 'nonp_cusum_results_spx_vol.csv'), index_col=0, parse_dates=True)\n",
    "\n",
    "nonparam_cusum_results = pd.merge(nonparam_cusum_ret, nonparam_cusum_vol, how='inner', left_index=True, right_index=True, suffixes=('_n_cusum_ret', '_n_cusum_vol'))"
   ]
  },
  {
   "cell_type": "code",
   "execution_count": 38,
   "metadata": {},
   "outputs": [
    {
     "name": "stdout",
     "output_type": "stream",
     "text": [
      "<class 'pandas.core.frame.DataFrame'>\n",
      "DatetimeIndex: 7466 entries, 1995-01-04 to 2024-08-29\n",
      "Data columns (total 4 columns):\n",
      " #   Column                Non-Null Count  Dtype\n",
      "---  ------                --------------  -----\n",
      " 0   ret_flag_n_cusum_ret  7466 non-null   int64\n",
      " 1   vol_flag_n_cusum_ret  7466 non-null   int64\n",
      " 2   ret_flag_n_cusum_vol  7466 non-null   int64\n",
      " 3   vol_flag_n_cusum_vol  7466 non-null   int64\n",
      "dtypes: int64(4)\n",
      "memory usage: 549.7 KB\n"
     ]
    }
   ],
   "source": [
    "nonparam_cusum_results.info()"
   ]
  },
  {
   "cell_type": "code",
   "execution_count": 35,
   "metadata": {},
   "outputs": [],
   "source": [
    "pelt_path = os.path.join(os.getcwd(), 'pelt')\n",
    "pelt_ret = pd.read_csv(os.path.join(pelt_path, 'pelt_results_spx.csv'), index_col=1, parse_dates=True)\n",
    "pelt_ret = pelt_ret.drop(columns=pelt_ret.columns[0:2]) # drop redundant columns including original returns\n",
    "pelt_ret.columns = ['pelt_cp_flag']"
   ]
  },
  {
   "cell_type": "code",
   "execution_count": 37,
   "metadata": {},
   "outputs": [
    {
     "name": "stdout",
     "output_type": "stream",
     "text": [
      "<class 'pandas.core.frame.DataFrame'>\n",
      "DatetimeIndex: 7466 entries, 1995-01-04 to 2024-08-29\n",
      "Data columns (total 1 columns):\n",
      " #   Column        Non-Null Count  Dtype\n",
      "---  ------        --------------  -----\n",
      " 0   pelt_cp_flag  7466 non-null   int64\n",
      "dtypes: int64(1)\n",
      "memory usage: 116.7 KB\n"
     ]
    }
   ],
   "source": [
    "pelt_ret.info()"
   ]
  },
  {
   "cell_type": "code",
   "execution_count": 41,
   "metadata": {},
   "outputs": [],
   "source": [
    "wbs_path = os.path.join(os.getcwd(), 'wbs')\n",
    "wbs_ret = pd.read_csv(os.path.join(wbs_path, 'cp_wbs_ret.csv'), index_col=0, parse_dates=True)\n",
    "wbs_vol = pd.read_csv(os.path.join(wbs_path, 'cp_wbs_vol.csv'), index_col=0, parse_dates=True)\n",
    "\n",
    "wbs_results = pd.merge(wbs_ret, wbs_vol, how='inner', left_index=True, right_index=True, suffixes=('_wbs_ret', '_wbs_vol'))"
   ]
  },
  {
   "cell_type": "code",
   "execution_count": 42,
   "metadata": {},
   "outputs": [
    {
     "name": "stdout",
     "output_type": "stream",
     "text": [
      "<class 'pandas.core.frame.DataFrame'>\n",
      "DatetimeIndex: 7467 entries, 1995-01-04 to 2024-08-30\n",
      "Data columns (total 2 columns):\n",
      " #   Column               Non-Null Count  Dtype\n",
      "---  ------               --------------  -----\n",
      " 0   ChangePoint_wbs_ret  7467 non-null   int64\n",
      " 1   ChangePoint_wbs_vol  7467 non-null   int64\n",
      "dtypes: int64(2)\n",
      "memory usage: 175.0 KB\n"
     ]
    }
   ],
   "source": [
    "wbs_results.info()"
   ]
  },
  {
   "cell_type": "code",
   "execution_count": 53,
   "metadata": {},
   "outputs": [],
   "source": [
    "cp_flags = pd.concat([nonparam_cusum_results, pelt_ret, wbs_results], axis=1)\n",
    "cp_flags = cp_flags.resample('M').apply(lambda x: x.iloc[-1]).ffill() # fill last row of data\n",
    "cp_flags.index = cp_flags.index.to_period('M').to_timestamp() # change the date to BOM"
   ]
  },
  {
   "cell_type": "code",
   "execution_count": 54,
   "metadata": {},
   "outputs": [
    {
     "name": "stdout",
     "output_type": "stream",
     "text": [
      "<class 'pandas.core.frame.DataFrame'>\n",
      "DatetimeIndex: 356 entries, 1995-01-01 to 2024-08-01\n",
      "Freq: MS\n",
      "Data columns (total 7 columns):\n",
      " #   Column                Non-Null Count  Dtype  \n",
      "---  ------                --------------  -----  \n",
      " 0   ret_flag_n_cusum_ret  356 non-null    float64\n",
      " 1   vol_flag_n_cusum_ret  356 non-null    float64\n",
      " 2   ret_flag_n_cusum_vol  356 non-null    float64\n",
      " 3   vol_flag_n_cusum_vol  356 non-null    float64\n",
      " 4   pelt_cp_flag          356 non-null    float64\n",
      " 5   ChangePoint_wbs_ret   356 non-null    int64  \n",
      " 6   ChangePoint_wbs_vol   356 non-null    int64  \n",
      "dtypes: float64(5), int64(2)\n",
      "memory usage: 22.2 KB\n"
     ]
    }
   ],
   "source": [
    "cp_flags.info()"
   ]
  },
  {
   "cell_type": "code",
   "execution_count": 55,
   "metadata": {},
   "outputs": [],
   "source": [
    "cp_flags.to_csv('changepoint_flags.csv', index=True)"
   ]
  }
 ],
 "metadata": {
  "kernelspec": {
   "display_name": "Python_3_9",
   "language": "python",
   "name": "python3"
  },
  "language_info": {
   "codemirror_mode": {
    "name": "ipython",
    "version": 3
   },
   "file_extension": ".py",
   "mimetype": "text/x-python",
   "name": "python",
   "nbconvert_exporter": "python",
   "pygments_lexer": "ipython3",
   "version": "3.9.15"
  }
 },
 "nbformat": 4,
 "nbformat_minor": 2
}
