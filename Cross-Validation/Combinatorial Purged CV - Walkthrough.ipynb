{
  "cells": [
    {
      "cell_type": "markdown",
      "id": "1be01380-438d-4900-92a8-8e82c23f2d1f",
      "metadata": {
        "id": "1be01380-438d-4900-92a8-8e82c23f2d1f"
      },
      "source": [
        "# Combinatorial Purged Cross-Validation (M. Lopez de Prado)"
      ]
    },
    {
      "cell_type": "markdown",
      "id": "88f3a822-9289-48ed-98d5-83dc4260392d",
      "metadata": {
        "id": "88f3a822-9289-48ed-98d5-83dc4260392d"
      },
      "source": [
        "- Index plotting function (copied from sklearn)"
      ]
    },
    {
      "cell_type": "code",
      "execution_count": null,
      "id": "d113f599-27cc-47e5-ad6e-5af809c0e709",
      "metadata": {
        "id": "d113f599-27cc-47e5-ad6e-5af809c0e709"
      },
      "outputs": [],
      "source": [
        "def plot_cv_indices(cv, X, y, group, ax, n_splits, lw=10, title = None):\n",
        "    \"\"\"Create a sample plot for indices of a cross-validation object.\"\"\"\n",
        "\n",
        "    # Generate the training/testing visualizations for each CV split\n",
        "    for ii, (tr, tt) in enumerate(cv.split(X=X, y=y, groups=group)):\n",
        "        # Fill in indices with the training/test groups\n",
        "        indices = np.array([np.nan] * len(X))\n",
        "        indices[tt] = 1\n",
        "        indices[tr] = 0\n",
        "\n",
        "        # Visualize the results\n",
        "        ax.scatter(\n",
        "            range(len(indices)),\n",
        "            [ii + 0.5] * len(indices),\n",
        "            c=indices,\n",
        "            marker=\"_\",\n",
        "            lw=lw,\n",
        "            cmap=cmap_cv,\n",
        "            vmin=-0.2,\n",
        "            vmax=1.2,\n",
        "        )\n",
        "\n",
        "    # Plot the data classes and groups at the end\n",
        "    ax.scatter(\n",
        "        range(len(X)), [ii + 1.5] * len(X), c=y, marker=\"_\", lw=lw, cmap=cmap_data\n",
        "    )\n",
        "\n",
        "    ax.scatter(\n",
        "        range(len(X)), [ii + 2.5] * len(X), c=group, marker=\"_\", lw=lw, cmap=cmap_data\n",
        "    )\n",
        "\n",
        "    # Formatting\n",
        "    yticklabels = list(range(n_splits)) + [\"target\", \"group\"]\n",
        "    ax.set(\n",
        "        yticks=np.arange(n_splits + 2) + 0.5,\n",
        "        yticklabels=yticklabels,\n",
        "        xlabel=\"Sample index\",\n",
        "        ylabel=\"CV iteration\",\n",
        "        ylim=[n_splits + 2.2, -0.2],\n",
        "        xlim=[0, 100],\n",
        "    )\n",
        "    if title is None:\n",
        "        ax.set_title(\"{} Cross-Validation\".format(type(cv).__name__), fontsize=15)\n",
        "\n",
        "    else:\n",
        "        ax.set_title(title, fontsize=15)\n",
        "\n",
        "    return ax"
      ]
    },
    {
      "cell_type": "markdown",
      "id": "30fc52d5-bd6f-4a3b-8c11-e18c6b7b7e26",
      "metadata": {
        "id": "30fc52d5-bd6f-4a3b-8c11-e18c6b7b7e26"
      },
      "source": [
        "- Generate random sample data"
      ]
    },
    {
      "cell_type": "code",
      "execution_count": null,
      "id": "b48e592d-388b-44b6-ae3e-7e2edba89571",
      "metadata": {
        "id": "b48e592d-388b-44b6-ae3e-7e2edba89571"
      },
      "outputs": [],
      "source": [
        "import matplotlib.pyplot as plt\n",
        "import numpy as np\n",
        "from matplotlib.patches import Patch\n",
        "rng = np.random.RandomState(1338)\n",
        "cmap_data = plt.cm.Paired\n",
        "cmap_cv = plt.cm.coolwarm\n",
        "\n",
        "# Generate the class/group data\n",
        "n_points = 100\n",
        "X = rng.randn(100, 10)\n",
        "\n",
        "percentiles_classes = [0.1, 0.3, 0.6]\n",
        "y = np.hstack([[ii] * int(100 * perc) for ii, perc in enumerate(percentiles_classes)])\n",
        "\n",
        "# Generate uneven groups\n",
        "group_prior = rng.dirichlet([2] * 10)\n",
        "groups = np.repeat(np.arange(10), rng.multinomial(100, group_prior))"
      ]
    },
    {
      "cell_type": "markdown",
      "id": "79f01bf0-8ff5-4c30-be0a-66c356136ca9",
      "metadata": {
        "jp-MarkdownHeadingCollapsed": true,
        "id": "79f01bf0-8ff5-4c30-be0a-66c356136ca9"
      },
      "source": [
        "## Traditional methods of cross validation"
      ]
    },
    {
      "cell_type": "code",
      "execution_count": null,
      "id": "106521bc-cb7a-48af-8555-aeaf98b994f9",
      "metadata": {
        "id": "106521bc-cb7a-48af-8555-aeaf98b994f9",
        "outputId": "bf39c074-676b-4876-b768-948f4c7c3cd4",
        "colab": {
          "base_uri": "https://localhost:8080/"
        }
      },
      "outputs": [
        {
          "output_type": "stream",
          "name": "stdout",
          "text": [
            "[1, 2, 3, 4, 5, 6, 7, 8, 9, 10]\n"
          ]
        }
      ],
      "source": [
        "# Define sample time-series indexes of data\n",
        "data = list(range(1,11))\n",
        "print(data)"
      ]
    },
    {
      "cell_type": "code",
      "execution_count": null,
      "id": "217ed6a1-edfc-42d6-a74e-fa0ec2c11276",
      "metadata": {
        "id": "217ed6a1-edfc-42d6-a74e-fa0ec2c11276",
        "outputId": "4c3d0693-9f26-4892-cc9d-29d70c111715",
        "colab": {
          "base_uri": "https://localhost:8080/"
        }
      },
      "outputs": [
        {
          "output_type": "execute_result",
          "data": {
            "text/plain": [
              "[[6, 5, 7, 2, 3, 8, 9, 4], [1, 10]]"
            ]
          },
          "metadata": {},
          "execution_count": 4
        }
      ],
      "source": [
        "from sklearn.model_selection import train_test_split\n",
        "\n",
        "# Implement train/test split\n",
        "train_test_split(data, train_size=0.8)"
      ]
    },
    {
      "cell_type": "markdown",
      "id": "5a09f112-dd71-4ac5-ac05-4bb754f575d7",
      "metadata": {
        "id": "5a09f112-dd71-4ac5-ac05-4bb754f575d7"
      },
      "source": [
        "### K-Fold Cross-Validation"
      ]
    },
    {
      "cell_type": "code",
      "execution_count": null,
      "id": "adc272e7-f749-422e-8144-28ec8c13273c",
      "metadata": {
        "id": "adc272e7-f749-422e-8144-28ec8c13273c",
        "outputId": "edfc37d6-48c3-46c7-9b6a-e929556aa0ce",
        "colab": {
          "base_uri": "https://localhost:8080/",
          "height": 578
        }
      },
      "outputs": [
        {
          "output_type": "stream",
          "name": "stdout",
          "text": [
            "[2 3 4 5 6 7 8 9] [0 1]\n",
            "[0 1 4 5 6 7 8 9] [2 3]\n",
            "[0 1 2 3 6 7 8 9] [4 5]\n",
            "[0 1 2 3 4 5 8 9] [6 7]\n",
            "[0 1 2 3 4 5 6 7] [8 9]\n"
          ]
        },
        {
          "output_type": "execute_result",
          "data": {
            "text/plain": [
              "<Axes: title={'center': 'KFold Cross-Validation'}, xlabel='Sample index', ylabel='CV iteration'>"
            ]
          },
          "metadata": {},
          "execution_count": 5
        },
        {
          "output_type": "display_data",
          "data": {
            "text/plain": [
              "<Figure size 640x480 with 1 Axes>"
            ],
            "image/png": "[encoded data removed]"
          },
          "metadata": {}
        }
      ],
      "source": [
        "from sklearn.model_selection import KFold\n",
        "\n",
        "kf = KFold(n_splits=5)\n",
        "for train, validate in kf.split(data):\n",
        "    print(train, validate)\n",
        "    pass\n",
        "\n",
        "n_splits = 5\n",
        "fig, ax = plt.subplots()\n",
        "plot_cv_indices(kf, X, y, groups, ax, n_splits)"
      ]
    },
    {
      "cell_type": "markdown",
      "id": "42431b71-0901-4e26-9076-c66b838fd14b",
      "metadata": {
        "id": "42431b71-0901-4e26-9076-c66b838fd14b"
      },
      "source": [
        "### Shuffling index"
      ]
    },
    {
      "cell_type": "code",
      "execution_count": null,
      "id": "0e8024b0-0129-479a-bc17-43f204278003",
      "metadata": {
        "id": "0e8024b0-0129-479a-bc17-43f204278003",
        "outputId": "a0ab140a-1b6a-4bab-f319-4f2bc232aec6",
        "colab": {
          "base_uri": "https://localhost:8080/",
          "height": 578
        }
      },
      "outputs": [
        {
          "output_type": "stream",
          "name": "stdout",
          "text": [
            "[0 2 3 4 5 6 7 9] [1 8]\n",
            "[1 2 3 4 6 7 8 9] [0 5]\n",
            "[0 1 3 4 5 6 8 9] [2 7]\n",
            "[0 1 2 3 5 6 7 8] [4 9]\n",
            "[0 1 2 4 5 7 8 9] [3 6]\n"
          ]
        },
        {
          "output_type": "execute_result",
          "data": {
            "text/plain": [
              "<Axes: title={'center': 'KFold Cross-Validation'}, xlabel='Sample index', ylabel='CV iteration'>"
            ]
          },
          "metadata": {},
          "execution_count": 6
        },
        {
          "output_type": "display_data",
          "data": {
            "text/plain": [
              "<Figure size 640x480 with 1 Axes>"
            ],
            "image/png": "[encoded data removed]"
          },
          "metadata": {}
        }
      ],
      "source": [
        "kf = KFold(n_splits=5, shuffle=True, random_state=42)\n",
        "for train, validate in kf.split(data):\n",
        "    print(train, validate)\n",
        "    pass\n",
        "\n",
        "n_splits = 5\n",
        "fig, ax = plt.subplots()\n",
        "plot_cv_indices(kf, X, y, groups, ax, n_splits)"
      ]
    },
    {
      "cell_type": "markdown",
      "id": "e14d805f-c218-43ec-9573-436f5cf9b99b",
      "metadata": {
        "id": "e14d805f-c218-43ec-9573-436f5cf9b99b"
      },
      "source": [
        "## Time-Series Cross-Validation"
      ]
    },
    {
      "cell_type": "markdown",
      "id": "2ba862fb-3287-4736-8fca-2032143f4139",
      "metadata": {
        "id": "2ba862fb-3287-4736-8fca-2032143f4139"
      },
      "source": [
        "To address time dependency, the TimeSeriesSplit object implements a walk-forward\n",
        "test with an expanding training set, where subsequent training sets are supersets of past\n",
        "training sets"
      ]
    },
    {
      "cell_type": "code",
      "execution_count": null,
      "id": "cfb4eb58-ff4b-4d69-82b9-1f7ffcfc473f",
      "metadata": {
        "id": "cfb4eb58-ff4b-4d69-82b9-1f7ffcfc473f",
        "outputId": "05276498-b7ac-40d6-e034-6e5fc189b268",
        "colab": {
          "base_uri": "https://localhost:8080/",
          "height": 578
        }
      },
      "outputs": [
        {
          "output_type": "stream",
          "name": "stdout",
          "text": [
            "[0 1 2 3 4] [5]\n",
            "[0 1 2 3 4 5] [6]\n",
            "[0 1 2 3 4 5 6] [7]\n",
            "[0 1 2 3 4 5 6 7] [8]\n",
            "[0 1 2 3 4 5 6 7 8] [9]\n"
          ]
        },
        {
          "output_type": "execute_result",
          "data": {
            "text/plain": [
              "<Axes: title={'center': 'TimeSeriesSplit Cross-Validation'}, xlabel='Sample index', ylabel='CV iteration'>"
            ]
          },
          "metadata": {},
          "execution_count": 7
        },
        {
          "output_type": "display_data",
          "data": {
            "text/plain": [
              "<Figure size 640x480 with 1 Axes>"
            ],
            "image/png": "[encoded data removed]"
          },
          "metadata": {}
        }
      ],
      "source": [
        "from sklearn.model_selection import TimeSeriesSplit\n",
        "\n",
        "tscv = TimeSeriesSplit(n_splits=5)\n",
        "\n",
        "for train, validate in tscv.split(data):\n",
        "    print(train, validate)\n",
        "    pass\n",
        "\n",
        "n_splits = 5\n",
        "fig, ax = plt.subplots()\n",
        "plot_cv_indices(tscv, X, y, groups, ax, n_splits)"
      ]
    },
    {
      "cell_type": "markdown",
      "id": "dcc29ff2-a48d-4ea0-9fd6-3ff38af0b956",
      "metadata": {
        "id": "dcc29ff2-a48d-4ea0-9fd6-3ff38af0b956"
      },
      "source": [
        "### Train/Validation/Test Split"
      ]
    },
    {
      "cell_type": "markdown",
      "id": "1ea0aa37-e630-4cd9-b97a-1715a0ed0847",
      "metadata": {
        "id": "1ea0aa37-e630-4cd9-b97a-1715a0ed0847"
      },
      "source": [
        "Model selection often involves hyperparameter tuning, which may result in many CV\n",
        "iterations. The resulting validation score of the best-performing model will be subject to\n",
        "multiple testing bias, which reflects the sampling noise inherent in the CV process. As a\n",
        "result, it is no longer a good estimate of the generalization error. For an unbiased estimate\n",
        "of the error rate, we have to estimate the score from a fresh datastimate."
      ]
    },
    {
      "cell_type": "markdown",
      "id": "c6061f0c-b7e3-471b-81c7-aedd570dd51d",
      "metadata": {
        "id": "c6061f0c-b7e3-471b-81c7-aedd570dd51d"
      },
      "source": [
        "For this reason, we use a three-way split of the data, as shown in Figure 6.10: one part\n",
        "is used in cross-validation and is repeatedly split into a training and validation set. The\n",
        "remainder is set aside as a hold-out set that is only used once after, cross-validation is\n",
        "complete to generate an unbiased test error estimate."
      ]
    },
    {
      "cell_type": "markdown",
      "id": "42b5ccc4-91ec-41bb-83e3-2493cb3bca81",
      "metadata": {
        "id": "42b5ccc4-91ec-41bb-83e3-2493cb3bca81"
      },
      "source": []
    },
    {
      "cell_type": "markdown",
      "id": "28fdf86b-51dd-4926-bcbe-b2a8ee1fb82e",
      "metadata": {
        "id": "28fdf86b-51dd-4926-bcbe-b2a8ee1fb82e"
      },
      "source": [
        "## Preventing Data Leakage"
      ]
    },
    {
      "cell_type": "markdown",
      "id": "a25695e4-3e97-44e6-ba3c-231875a30c58",
      "metadata": {
        "id": "a25695e4-3e97-44e6-ba3c-231875a30c58"
      },
      "source": [
        "The risks include the leakage of information from the test into the training set, which would\n",
        "very likely artificially inflate performance. We need to address this risk by ensuring that all\n",
        "data is point-in-time—that is, truly available and known at the time it is used as the input\n",
        "for a model. For example, financial disclosures may refer to a certain time period but only\n",
        "become available later. If we include this information too early, our model might do much\n",
        "better in hindsight than it would have under realistic circumstances."
      ]
    },
    {
      "cell_type": "markdown",
      "id": "88e14615-bd38-4453-81c1-15e27a3b3d83",
      "metadata": {
        "id": "88e14615-bd38-4453-81c1-15e27a3b3d83"
      },
      "source": []
    },
    {
      "cell_type": "markdown",
      "id": "ae9016a9-a669-49cd-8261-55b965b7fcec",
      "metadata": {
        "id": "ae9016a9-a669-49cd-8261-55b965b7fcec"
      },
      "source": [
        "### Purging - cutting last observations from training set"
      ]
    },
    {
      "cell_type": "markdown",
      "id": "37f0c441-6777-4aef-ad7b-638208a68b71",
      "metadata": {
        "id": "37f0c441-6777-4aef-ad7b-638208a68b71"
      },
      "source": [
        "*Definition*:\n",
        "Purging involves removing data points from the training set that are in close temporal proximity to data points in the test set. In particular, this means removing all samples from train set which would be evaluated on actual data that lies in training set"
      ]
    },
    {
      "cell_type": "markdown",
      "id": "8512c4ee-6443-46fa-8e8a-a1ce76852ccc",
      "metadata": {
        "id": "8512c4ee-6443-46fa-8e8a-a1ce76852ccc"
      },
      "source": [
        "*Purpose*: The goal of purging is to ensure that information from the future (test set) does not leak into the past (training set). In financial time series, this is crucial because future information should not be available when predicting past values."
      ]
    },
    {
      "cell_type": "markdown",
      "id": "1983028e-ffaf-4e09-842f-6c7ec564e720",
      "metadata": {
        "id": "1983028e-ffaf-4e09-842f-6c7ec564e720"
      },
      "source": [
        "![purging_embargoing.png](attachment:c3e8fd1b-67ae-4221-856a-9f147d55fec0.png)"
      ]
    },
    {
      "cell_type": "code",
      "execution_count": null,
      "id": "a610a9e4-4182-44f2-a40b-bfee883fa22d",
      "metadata": {
        "id": "a610a9e4-4182-44f2-a40b-bfee883fa22d"
      },
      "outputs": [],
      "source": [
        "import numpy as np\n",
        "from sklearn.model_selection import KFold\n",
        "from sklearn.model_selection._split import _BaseKFold, indexable, _num_samples\n",
        "from sklearn.utils.validation import _deprecate_positional_args\n",
        "\n",
        "# modified code for group gaps; source\n",
        "# https://github.com/getgaurav2/scikit-learn/blob/d4a3af5cc9da3a76f0266932644b884c99724c57/sklearn/model_selection/_split.py#L2243\n",
        "class PurgedGroupTimeSeriesSplit(_BaseKFold):\n",
        "    \"\"\"Time Series cross-validator variant with non-overlapping groups.\n",
        "    Allows for a gap in groups to avoid potentially leaking info from\n",
        "    train into test if the model has windowed or lag features.\n",
        "    Provides train/test indices to split time series data samples\n",
        "    that are observed at fixed time intervals according to a\n",
        "    third-party provided group.\n",
        "    In each split, test indices must be higher than before, and thus shuffling\n",
        "    in cross validator is inappropriate.\n",
        "    This cross-validation object is a variation of :class:`KFold`.\n",
        "    In the kth split, it returns first k folds as train set and the\n",
        "    (k+1)th fold as test set.\n",
        "    The same group will not appear in two different folds (the number of\n",
        "    distinct groups has to be at least equal to the number of folds).\n",
        "    Note that unlike standard cross-validation methods, successive\n",
        "    training sets are supersets of those that come before them.\n",
        "    Read more in the :ref:`User Guide <cross_validation>`.\n",
        "    Parameters\n",
        "    ----------\n",
        "    n_splits : int, default=5\n",
        "        Number of splits. Must be at least 2.\n",
        "    max_train_group_size : int, default=Inf\n",
        "        Maximum group size for a single training set.\n",
        "    group_gap : int, default=None\n",
        "        Gap between train and test\n",
        "    max_test_group_size : int, default=Inf\n",
        "        We discard this number of groups from the end of each train split\n",
        "    \"\"\"\n",
        "\n",
        "    @_deprecate_positional_args # This decorator simply enforces user to use keyword arguments only (ie. positional arguments without a key will throw an error)\n",
        "    def __init__(self,\n",
        "                 n_splits=5,\n",
        "                 *,\n",
        "                 max_train_group_size=np.inf,\n",
        "                 max_test_group_size=np.inf,\n",
        "                 group_gap=None,\n",
        "                 verbose=False\n",
        "                 ):\n",
        "        super().__init__(n_splits, shuffle=False, random_state=None)\n",
        "        self.max_train_group_size = max_train_group_size\n",
        "        self.group_gap = group_gap\n",
        "        self.max_test_group_size = max_test_group_size\n",
        "        self.verbose = verbose\n",
        "\n",
        "    def split(self, X, y=None, groups=None):\n",
        "        \"\"\"Generate indices to split data into training and test set.\n",
        "        Parameters\n",
        "        ----------\n",
        "        X : array-like of shape (n_samples, n_features)\n",
        "            Training data, where n_samples is the number of samples\n",
        "            and n_features is the number of features.\n",
        "        y : array-like of shape (n_samples,)\n",
        "            Always ignored, exists for compatibility.\n",
        "        groups : array-like of shape (n_samples,)\n",
        "            Group labels for the samples used while splitting the dataset into\n",
        "            train/test set.\n",
        "        Yields\n",
        "        ------\n",
        "        train : ndarray\n",
        "            The training set indices for that split.\n",
        "        test : ndarray\n",
        "            The testing set indices for that split.\n",
        "        \"\"\"\n",
        "        if groups is None:\n",
        "            raise ValueError(\n",
        "                \"The 'groups' parameter should not be None\")\n",
        "        X, y, groups = indexable(X, y, groups)\n",
        "        n_samples = _num_samples(X)\n",
        "        n_splits = self.n_splits\n",
        "        group_gap = self.group_gap\n",
        "        max_test_group_size = self.max_test_group_size\n",
        "        max_train_group_size = self.max_train_group_size\n",
        "        n_folds = n_splits + 1\n",
        "        group_dict = {}\n",
        "        u, ind = np.unique(groups, return_index=True)\n",
        "        unique_groups = u[np.argsort(ind)]\n",
        "        n_samples = _num_samples(X)\n",
        "        n_groups = _num_samples(unique_groups)\n",
        "        for idx in np.arange(n_samples):\n",
        "            if (groups[idx] in group_dict):\n",
        "                group_dict[groups[idx]].append(idx)\n",
        "            else:\n",
        "                group_dict[groups[idx]] = [idx]\n",
        "        if n_folds > n_groups:\n",
        "            raise ValueError(\n",
        "                (\"Cannot have number of folds={0} greater than\"\n",
        "                 \" the number of groups={1}\").format(n_folds,\n",
        "                                                     n_groups))\n",
        "\n",
        "        group_test_size = min(n_groups // n_folds, max_test_group_size)\n",
        "        group_test_starts = range(n_groups - n_splits * group_test_size,\n",
        "                                  n_groups, group_test_size)\n",
        "        for group_test_start in group_test_starts:\n",
        "            train_array = []\n",
        "            test_array = []\n",
        "\n",
        "            group_st = max(0, group_test_start - group_gap - max_train_group_size)\n",
        "            for train_group_idx in unique_groups[group_st:(group_test_start - group_gap)]:\n",
        "                train_array_tmp = group_dict[train_group_idx]\n",
        "\n",
        "                train_array = np.sort(np.unique(\n",
        "                                      np.concatenate((train_array,\n",
        "                                                      train_array_tmp)),\n",
        "                                      axis=None), axis=None)\n",
        "\n",
        "            train_end = train_array.size\n",
        "\n",
        "            for test_group_idx in unique_groups[group_test_start:\n",
        "                                                group_test_start +\n",
        "                                                group_test_size]:\n",
        "                test_array_tmp = group_dict[test_group_idx]\n",
        "                test_array = np.sort(np.unique(\n",
        "                                              np.concatenate((test_array,\n",
        "                                                              test_array_tmp)),\n",
        "                                     axis=None), axis=None)\n",
        "\n",
        "            test_array  = test_array[group_gap:]\n",
        "\n",
        "\n",
        "            if self.verbose > 0:\n",
        "                    pass\n",
        "\n",
        "            yield [int(i) for i in train_array], [int(i) for i in test_array]"
      ]
    },
    {
      "cell_type": "code",
      "execution_count": null,
      "id": "4a90c85e-f93e-406c-a78d-a6da89f737d2",
      "metadata": {
        "id": "4a90c85e-f93e-406c-a78d-a6da89f737d2",
        "outputId": "1a2422f5-77aa-4fcf-cd84-e935e098566f",
        "colab": {
          "base_uri": "https://localhost:8080/",
          "height": 648
        }
      },
      "outputs": [
        {
          "output_type": "stream",
          "name": "stdout",
          "text": [
            "Lenght of CV [Train - 1]: 40\n",
            "Length of CV [Validate - 1]: 9\n",
            "Lenght of CV [Train - 2]: 40\n",
            "Length of CV [Validate - 2]: 9\n",
            "Lenght of CV [Train - 3]: 40\n",
            "Length of CV [Validate - 3]: 9\n",
            "Lenght of CV [Train - 4]: 40\n",
            "Length of CV [Validate - 4]: 9\n",
            "Lenght of CV [Train - 5]: 40\n",
            "Length of CV [Validate - 5]: 9\n"
          ]
        },
        {
          "output_type": "display_data",
          "data": {
            "text/plain": [
              "<Figure size 640x480 with 1 Axes>"
            ],
            "image/png": "[encoded data removed]"
          },
          "metadata": {}
        }
      ],
      "source": [
        "cv = PurgedGroupTimeSeriesSplit(\n",
        "    n_splits=5, # Number of Cross-Validation splits\n",
        "    max_train_group_size=4, # Maximum training size at 70% of input data\n",
        "    group_gap=1, # Skip rows of observations for last group in the training sample\n",
        "    max_test_group_size=3 # Maximum test size at 30% of input data\n",
        ")\n",
        "\n",
        "n_samples = 100\n",
        "n_groups = 10\n",
        "groups = np.repeat(np.linspace(0, n_groups-1, num=n_groups), n_samples/n_groups)\n",
        "\n",
        "n_splits = 5\n",
        "fig, ax = plt.subplots()\n",
        "plot_cv_indices(cv, X, y, groups, ax, n_splits, title='Purged Cross-Validation')\n",
        "\n",
        "idx = 0\n",
        "for train, validate in cv.split(X=X, y=y, groups=groups):\n",
        "    print(f'Lenght of CV [Train - {idx+1}]: {len(train)}')\n",
        "    print(f'Length of CV [Validate - {idx+1}]: {len(validate)}')\n",
        "    idx += 1\n",
        "    pass"
      ]
    },
    {
      "cell_type": "markdown",
      "id": "21b523af-a292-40b3-8dae-65b63e639785",
      "metadata": {
        "id": "21b523af-a292-40b3-8dae-65b63e639785"
      },
      "source": [
        "## Embargo:  From Walk-Forward to Shuffled K-Fold"
      ]
    },
    {
      "cell_type": "markdown",
      "id": "a39d8754-87b6-40d5-8636-fd9bc880abeb",
      "metadata": {
        "id": "a39d8754-87b6-40d5-8636-fd9bc880abeb"
      },
      "source": [
        "### Embargoing - cutting first training observations after test set"
      ]
    },
    {
      "cell_type": "markdown",
      "id": "9f670590-e189-4588-9a23-71a5a0b40282",
      "metadata": {
        "id": "9f670590-e189-4588-9a23-71a5a0b40282"
      },
      "source": [
        "- Using exactly the same set of training (train + validate) data, we can now reshuffle the order of data, and produce different CV folds\n",
        "- Similarly to purging, we will create a gap between train and validation sets, only this time after the validation \"block\" ends in fold"
      ]
    },
    {
      "cell_type": "markdown",
      "id": "0b4b01f4-f3be-43d4-a83f-2108319652d8",
      "metadata": {
        "id": "0b4b01f4-f3be-43d4-a83f-2108319652d8"
      },
      "source": [
        "For those cases where purging is not able to prevent all leakage, we can impose\n",
        "an embargo on training observations after every test set.\n",
        "The embargo does not affect training observations prior to a test set"
      ]
    },
    {
      "cell_type": "markdown",
      "id": "21604878-2e1e-4825-bc39-918c7ddb3e6d",
      "metadata": {
        "id": "21604878-2e1e-4825-bc39-918c7ddb3e6d"
      },
      "source": [
        "![embargo.png](attachment:0e22e4e8-fd16-4d53-bfaf-f84df4b38e4e.png)"
      ]
    },
    {
      "cell_type": "code",
      "execution_count": null,
      "id": "d20c5447-c7cd-40ba-9635-64e8d0510ae9",
      "metadata": {
        "id": "d20c5447-c7cd-40ba-9635-64e8d0510ae9"
      },
      "outputs": [],
      "source": [
        "from sklearn.model_selection._split import _BaseKFold\n",
        "class PurgedKFold(_BaseKFold):\n",
        "    \"\"\"\n",
        "    Extend KFold class to work with labels that span intervals\n",
        "    The train is purged of observations overlapping test-label intervals\n",
        "    Test set is assumed contiguous (shuffle=False), w/o training samples in between\n",
        "    \"\"\"\n",
        "    def __init__(self,n_splits=3,t1=None,pctEmbargo=0.):\n",
        "        if not isinstance(t1,pd.Series):\n",
        "            raise ValueError('Label Through Dates must be a pd.Series')\n",
        "        super(PurgedKFold,self).__init__(n_splits,shuffle=False,random_state=None)\n",
        "        self.t1=t1\n",
        "        self.pctEmbargo=pctEmbargo\n",
        "\n",
        "    def split(self,X,y=None,groups=None):\n",
        "        if (X.index==self.t1.index).sum()!=len(self.t1):\n",
        "            raise ValueError('X and ThruDateValues must have the same index')\n",
        "\n",
        "        # TODO: grouping function combinations insert here??\n",
        "        # manage groups by using label in dataframe?\n",
        "        # use combinations + group label to split into chunks??\n",
        "\n",
        "        indices=np.arange(X.shape[0])\n",
        "        mbrg=int(X.shape[0]*self.pctEmbargo)\n",
        "        test_starts=[\n",
        "            (i[0],i[-1]+1) for i in np.array_split(np.arange(X.shape[0]),\n",
        "                                                   self.n_splits)\n",
        "        ]\n",
        "        for i,j in test_starts:\n",
        "            t0=self.t1.index[i] # start of test set\n",
        "            test_indices=indices[i:j]\n",
        "            maxT1Idx=self.t1.index.searchsorted(self.t1[test_indices].max())\n",
        "            train_indices=self.t1.index.searchsorted(self.t1[self.t1<=t0].index)\n",
        "            if maxT1Idx<X.shape[0]: # right train ( with embargo)\n",
        "                train_indices=np.concatenate((train_indices, indices[maxT1Idx+mbrg:]))\n",
        "            yield train_indices,test_indices"
      ]
    },
    {
      "cell_type": "code",
      "execution_count": null,
      "id": "a4e784ac-3b1d-42ed-92ca-f3d66208a64b",
      "metadata": {
        "id": "a4e784ac-3b1d-42ed-92ca-f3d66208a64b"
      },
      "outputs": [],
      "source": [
        "import pandas as pd\n",
        "X_df = pd.DataFrame(X)\n",
        "date_series = pd.Series(range(100))"
      ]
    },
    {
      "cell_type": "code",
      "execution_count": null,
      "id": "2c771db3-607a-4606-ba3f-51da1904e2fb",
      "metadata": {
        "id": "2c771db3-607a-4606-ba3f-51da1904e2fb",
        "outputId": "fb5aa004-a64a-4903-8666-b7cc00ccd2e7",
        "colab": {
          "base_uri": "https://localhost:8080/",
          "height": 491
        }
      },
      "outputs": [
        {
          "output_type": "execute_result",
          "data": {
            "text/plain": [
              "<Axes: title={'center': 'Embargoed (Shuffled) Cross-Validation'}, xlabel='Sample index', ylabel='CV iteration'>"
            ]
          },
          "metadata": {},
          "execution_count": 12
        },
        {
          "output_type": "display_data",
          "data": {
            "text/plain": [
              "<Figure size 640x480 with 1 Axes>"
            ],
            "image/png": "[encoded data removed]"
          },
          "metadata": {}
        }
      ],
      "source": [
        "purged_cv = PurgedKFold(\n",
        "    n_splits = 5,\n",
        "    t1 = date_series,\n",
        "    pctEmbargo = 0.1\n",
        ")\n",
        "\n",
        "n_samples = 100\n",
        "n_groups = 10\n",
        "groups = np.repeat(np.linspace(0, n_groups-1, num=n_groups), n_samples/n_groups)\n",
        "\n",
        "n_splits = 5\n",
        "fig, ax = plt.subplots()\n",
        "plot_cv_indices(purged_cv, X_df, y, groups, ax, n_splits, title = 'Embargoed (Shuffled) Cross-Validation')"
      ]
    },
    {
      "cell_type": "markdown",
      "id": "7014d87a-f632-4cc0-a50d-d6a816ea712d",
      "metadata": {
        "id": "7014d87a-f632-4cc0-a50d-d6a816ea712d"
      },
      "source": [
        "## Putting all together CPCV (Combinatorial Purged K-fold Cross-Validation)"
      ]
    },
    {
      "cell_type": "markdown",
      "id": "0a6258ec-4c6c-468d-ad9e-edbc464f4b53",
      "metadata": {
        "id": "0a6258ec-4c6c-468d-ad9e-edbc464f4b53"
      },
      "source": [
        "Once we've seen both *Purging* and *Embargoing* in action, we can move to CV method to backtest Time-Series model using De-Prado's approach"
      ]
    },
    {
      "cell_type": "markdown",
      "id": "6fdf9914-8f33-48ce-9aec-53b9b5564e25",
      "metadata": {
        "id": "6fdf9914-8f33-48ce-9aec-53b9b5564e25"
      },
      "source": [
        "Since we now allow shuffling our CV Folds, we will use *Combinatorial* framework in following way:\n",
        "1. Maximize number of different paths (ie. scenarios), by compiling number of all possible combinations (Purged & Embargoed periods are labeled with red)"
      ]
    },
    {
      "cell_type": "markdown",
      "id": "78048b09-175b-4782-9511-b4f4a2f47f0f",
      "metadata": {
        "id": "78048b09-175b-4782-9511-b4f4a2f47f0f"
      },
      "source": [
        "![ComBinatorialPurgedKfoldCV.png](attachment:f99febe7-a139-457f-b178-9e0ab8b1951e.png)"
      ]
    },
    {
      "cell_type": "markdown",
      "id": "a6dd4d88-8c4e-4eec-b580-e9e8c2adaa04",
      "metadata": {
        "id": "a6dd4d88-8c4e-4eec-b580-e9e8c2adaa04"
      },
      "source": [
        "2. From all generated (artificial) paths, filter out ones that contain duplicated/overlapping connections between Train (blue) and Test (orange) Folds\n",
        "\n",
        "This can be achieved by using following selection method (this is example of n_folds=5)"
      ]
    },
    {
      "cell_type": "markdown",
      "id": "f35c0f9d-421c-49bc-b0a6-3bf8681b0ebe",
      "metadata": {
        "id": "f35c0f9d-421c-49bc-b0a6-3bf8681b0ebe"
      },
      "source": [
        "![PurgedCVPathSelection.png](attachment:9fc46594-a577-4ca2-8b88-7e3272c9b2f8.png)"
      ]
    }
  ],
  "metadata": {
    "kernelspec": {
      "display_name": "Python 3 (ipykernel)",
      "language": "python",
      "name": "python3"
    },
    "language_info": {
      "codemirror_mode": {
        "name": "ipython",
        "version": 3
      },
      "file_extension": ".py",
      "mimetype": "text/x-python",
      "name": "python",
      "nbconvert_exporter": "python",
      "pygments_lexer": "ipython3",
      "version": "3.9.15"
    },
    "colab": {
      "provenance": []
    }
  },
  "nbformat": 4,
  "nbformat_minor": 5
}