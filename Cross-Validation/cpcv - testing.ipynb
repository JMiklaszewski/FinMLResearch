{
 "cells": [
  {
   "cell_type": "code",
   "execution_count": 1,
   "metadata": {},
   "outputs": [],
   "source": [
    "import numpy as np\n",
    "import pandas as pd\n",
    "from datetime import datetime\n",
    "from cpcv import CombPurgedKFoldCVLocal"
   ]
  },
  {
   "cell_type": "code",
   "execution_count": 2,
   "metadata": {},
   "outputs": [],
   "source": [
    "def generate_time_series(start, end, num_series):\n",
    "    date_range = pd.date_range(start=start, end=end)\n",
    "    data = np.random.rand(len(date_range), num_series)\n",
    "    df = pd.DataFrame(data, index=date_range)\n",
    "    df.columns = [f'feature_{i}' for i in range(len(df.columns))]\n",
    "    df.index.name = 'date'\n",
    "    return df"
   ]
  },
  {
   "cell_type": "code",
   "execution_count": 3,
   "metadata": {},
   "outputs": [],
   "source": [
    "start_date = datetime(2020, 1, 1)\n",
    "end_date = datetime(2020, 12, 31)\n",
    "num_series = 10"
   ]
  },
  {
   "cell_type": "code",
   "execution_count": 4,
   "metadata": {},
   "outputs": [],
   "source": [
    "df = generate_time_series(start_date, end_date, num_series)"
   ]
  },
  {
   "cell_type": "code",
   "execution_count": 5,
   "metadata": {},
   "outputs": [
    {
     "data": {
      "text/html": [
       "<div>\n",
       "<style scoped>\n",
       "    .dataframe tbody tr th:only-of-type {\n",
       "        vertical-align: middle;\n",
       "    }\n",
       "\n",
       "    .dataframe tbody tr th {\n",
       "        vertical-align: top;\n",
       "    }\n",
       "\n",
       "    .dataframe thead th {\n",
       "        text-align: right;\n",
       "    }\n",
       "</style>\n",
       "<table border=\"1\" class=\"dataframe\">\n",
       "  <thead>\n",
       "    <tr style=\"text-align: right;\">\n",
       "      <th></th>\n",
       "      <th>feature_0</th>\n",
       "      <th>feature_1</th>\n",
       "      <th>feature_2</th>\n",
       "      <th>feature_3</th>\n",
       "      <th>feature_4</th>\n",
       "      <th>feature_5</th>\n",
       "      <th>feature_6</th>\n",
       "      <th>feature_7</th>\n",
       "      <th>feature_8</th>\n",
       "      <th>feature_9</th>\n",
       "    </tr>\n",
       "    <tr>\n",
       "      <th>date</th>\n",
       "      <th></th>\n",
       "      <th></th>\n",
       "      <th></th>\n",
       "      <th></th>\n",
       "      <th></th>\n",
       "      <th></th>\n",
       "      <th></th>\n",
       "      <th></th>\n",
       "      <th></th>\n",
       "      <th></th>\n",
       "    </tr>\n",
       "  </thead>\n",
       "  <tbody>\n",
       "    <tr>\n",
       "      <th>2020-01-01</th>\n",
       "      <td>0.454751</td>\n",
       "      <td>0.105741</td>\n",
       "      <td>0.730634</td>\n",
       "      <td>0.654568</td>\n",
       "      <td>0.909921</td>\n",
       "      <td>0.082977</td>\n",
       "      <td>0.869187</td>\n",
       "      <td>0.704900</td>\n",
       "      <td>0.322834</td>\n",
       "      <td>0.896703</td>\n",
       "    </tr>\n",
       "    <tr>\n",
       "      <th>2020-01-02</th>\n",
       "      <td>0.037507</td>\n",
       "      <td>0.163067</td>\n",
       "      <td>0.021827</td>\n",
       "      <td>0.100581</td>\n",
       "      <td>0.571831</td>\n",
       "      <td>0.426528</td>\n",
       "      <td>0.966923</td>\n",
       "      <td>0.535103</td>\n",
       "      <td>0.750345</td>\n",
       "      <td>0.893582</td>\n",
       "    </tr>\n",
       "    <tr>\n",
       "      <th>2020-01-03</th>\n",
       "      <td>0.402151</td>\n",
       "      <td>0.746424</td>\n",
       "      <td>0.048630</td>\n",
       "      <td>0.599810</td>\n",
       "      <td>0.885763</td>\n",
       "      <td>0.505708</td>\n",
       "      <td>0.723186</td>\n",
       "      <td>0.771258</td>\n",
       "      <td>0.113620</td>\n",
       "      <td>0.353953</td>\n",
       "    </tr>\n",
       "    <tr>\n",
       "      <th>2020-01-04</th>\n",
       "      <td>0.969437</td>\n",
       "      <td>0.258946</td>\n",
       "      <td>0.459235</td>\n",
       "      <td>0.741512</td>\n",
       "      <td>0.989748</td>\n",
       "      <td>0.818683</td>\n",
       "      <td>0.190525</td>\n",
       "      <td>0.744335</td>\n",
       "      <td>0.874683</td>\n",
       "      <td>0.615594</td>\n",
       "    </tr>\n",
       "    <tr>\n",
       "      <th>2020-01-05</th>\n",
       "      <td>0.050371</td>\n",
       "      <td>0.845781</td>\n",
       "      <td>0.213191</td>\n",
       "      <td>0.272810</td>\n",
       "      <td>0.944240</td>\n",
       "      <td>0.598976</td>\n",
       "      <td>0.524707</td>\n",
       "      <td>0.676021</td>\n",
       "      <td>0.260878</td>\n",
       "      <td>0.420470</td>\n",
       "    </tr>\n",
       "  </tbody>\n",
       "</table>\n",
       "</div>"
      ],
      "text/plain": [
       "            feature_0  feature_1  feature_2  feature_3  feature_4  feature_5  \\\n",
       "date                                                                           \n",
       "2020-01-01   0.454751   0.105741   0.730634   0.654568   0.909921   0.082977   \n",
       "2020-01-02   0.037507   0.163067   0.021827   0.100581   0.571831   0.426528   \n",
       "2020-01-03   0.402151   0.746424   0.048630   0.599810   0.885763   0.505708   \n",
       "2020-01-04   0.969437   0.258946   0.459235   0.741512   0.989748   0.818683   \n",
       "2020-01-05   0.050371   0.845781   0.213191   0.272810   0.944240   0.598976   \n",
       "\n",
       "            feature_6  feature_7  feature_8  feature_9  \n",
       "date                                                    \n",
       "2020-01-01   0.869187   0.704900   0.322834   0.896703  \n",
       "2020-01-02   0.966923   0.535103   0.750345   0.893582  \n",
       "2020-01-03   0.723186   0.771258   0.113620   0.353953  \n",
       "2020-01-04   0.190525   0.744335   0.874683   0.615594  \n",
       "2020-01-05   0.524707   0.676021   0.260878   0.420470  "
      ]
     },
     "execution_count": 5,
     "metadata": {},
     "output_type": "execute_result"
    }
   ],
   "source": [
    "df.head()"
   ]
  },
  {
   "cell_type": "code",
   "execution_count": 6,
   "metadata": {},
   "outputs": [
    {
     "name": "stdout",
     "output_type": "stream",
     "text": [
      "(366, 9), (366,)\n"
     ]
    }
   ],
   "source": [
    "X, y = df.drop(columns=['feature_0']), df['feature_0']\n",
    "print(f'{X.shape}, {y.shape}')"
   ]
  },
  {
   "cell_type": "code",
   "execution_count": 10,
   "metadata": {},
   "outputs": [],
   "source": [
    "pred_times = pd.Series(df.index, index=df.index)\n",
    "eval_times = pd.Series(df.index, index=df.index)"
   ]
  },
  {
   "cell_type": "code",
   "execution_count": 11,
   "metadata": {},
   "outputs": [],
   "source": [
    "cpcv = CombPurgedKFoldCVLocal(\n",
    "    n_splits=10,\n",
    "    n_test_splits=1,\n",
    "    embargo_td=pd.Timedelta(days=2)\n",
    ")"
   ]
  },
  {
   "cell_type": "code",
   "execution_count": 12,
   "metadata": {},
   "outputs": [
    {
     "name": "stdout",
     "output_type": "stream",
     "text": [
      "(Fold 0): train rows - (0:329); test rows - (330:365)\n",
      "(Fold 1): train rows - (0:365); test rows - (294:329)\n",
      "(Fold 2): train rows - (0:365); test rows - (258:293)\n",
      "(Fold 3): train rows - (0:365); test rows - (222:257)\n",
      "(Fold 4): train rows - (0:365); test rows - (185:221)\n",
      "(Fold 5): train rows - (0:365); test rows - (148:184)\n",
      "(Fold 6): train rows - (0:365); test rows - (111:147)\n",
      "(Fold 7): train rows - (0:365); test rows - (74:110)\n",
      "(Fold 8): train rows - (0:365); test rows - (37:73)\n",
      "(Fold 9): train rows - (39:365); test rows - (0:36)\n"
     ]
    }
   ],
   "source": [
    "for i, (train_idx, test_idx) in enumerate(cpcv.split(X, y, pred_times, eval_times)):\n",
    "    print(f'(Fold {i}): train rows - ({train_idx[0]}:{train_idx[-1]}); test rows - ({test_idx[0]}:{test_idx[-1]})')"
   ]
  },
  {
   "cell_type": "code",
   "execution_count": 13,
   "metadata": {},
   "outputs": [
    {
     "data": {
      "image/png": "[encoded data removed]",
      "text/plain": [
       "<Figure size 1000x600 with 1 Axes>"
      ]
     },
     "metadata": {},
     "output_type": "display_data"
    }
   ],
   "source": [
    "import matplotlib.pyplot as plt\n",
    "# Cross-validation split indices\n",
    "folds = list(cpcv.split(X, y, pred_times, eval_times))\n",
    "\n",
    "# Initialize plot\n",
    "fig, ax = plt.subplots(figsize=(10, 6))\n",
    "\n",
    "# Colors for train and test indices\n",
    "train_color = 'skyblue'\n",
    "test_color = 'salmon'\n",
    "\n",
    "# Iterate over each fold\n",
    "for i, (train_idx, test_idx) in enumerate(folds):\n",
    "    # Create an array of zeros for this fold\n",
    "    fold_data = np.zeros(len(X), dtype=int)\n",
    "    \n",
    "    # Mark training indices with 1\n",
    "    fold_data[train_idx] = 1\n",
    "    \n",
    "    # Mark testing indices with 2\n",
    "    fold_data[test_idx] = 2\n",
    "    \n",
    "    # Plot the fold as a stacked bar\n",
    "    ax.barh(i, len(train_idx), left=min(train_idx), color=train_color, edgecolor='black')\n",
    "    ax.barh(i, len(test_idx), left=min(test_idx), color=test_color, edgecolor='black')\n",
    "\n",
    "# Set labels and title\n",
    "ax.set_yticks(np.arange(len(folds)))\n",
    "ax.set_yticklabels([f'Fold {i}' for i in range(len(folds))])\n",
    "ax.set_xlabel('Index')\n",
    "ax.set_title('Purged K-Fold Cross-Validation - Train/Test Split')\n",
    "\n",
    "# Create legend\n",
    "train_patch = plt.Line2D([0], [0], color=train_color, lw=4, label='Train')\n",
    "test_patch = plt.Line2D([0], [0], color=test_color, lw=4, label='Test')\n",
    "ax.legend(handles=[train_patch, test_patch])\n",
    "\n",
    "# Show plot\n",
    "plt.show()"
   ]
  }
 ],
 "metadata": {
  "kernelspec": {
   "display_name": "GluonTS",
   "language": "python",
   "name": "python3"
  },
  "language_info": {
   "codemirror_mode": {
    "name": "ipython",
    "version": 3
   },
   "file_extension": ".py",
   "mimetype": "text/x-python",
   "name": "python",
   "nbconvert_exporter": "python",
   "pygments_lexer": "ipython3",
   "version": "3.9.15"
  }
 },
 "nbformat": 4,
 "nbformat_minor": 2
}
