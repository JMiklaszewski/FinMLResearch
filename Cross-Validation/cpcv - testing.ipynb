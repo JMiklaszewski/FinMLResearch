{
 "cells": [
  {
   "cell_type": "code",
   "execution_count": 1,
   "metadata": {},
   "outputs": [],
   "source": [
    "import numpy as np\n",
    "import pandas as pd\n",
    "from datetime import datetime\n",
    "from cpcv import CombPurgedKFoldCVLocal"
   ]
  },
  {
   "cell_type": "code",
   "execution_count": 2,
   "metadata": {},
   "outputs": [],
   "source": [
    "def generate_time_series(start, end, num_series):\n",
    "    date_range = pd.date_range(start=start, end=end)\n",
    "    data = np.random.rand(len(date_range), num_series)\n",
    "    df = pd.DataFrame(data, index=date_range)\n",
    "    df.columns = [f'feature_{i}' for i in range(len(df.columns))]\n",
    "    df.index.name = 'date'\n",
    "    return df"
   ]
  },
  {
   "cell_type": "code",
   "execution_count": 3,
   "metadata": {},
   "outputs": [],
   "source": [
    "start_date = datetime(2020, 1, 1)\n",
    "end_date = datetime(2020, 12, 31)\n",
    "num_series = 10"
   ]
  },
  {
   "cell_type": "code",
   "execution_count": 4,
   "metadata": {},
   "outputs": [],
   "source": [
    "df = generate_time_series(start_date, end_date, num_series)"
   ]
  },
  {
   "cell_type": "code",
   "execution_count": 5,
   "metadata": {},
   "outputs": [
    {
     "data": {
      "text/html": [
       "<div>\n",
       "<style scoped>\n",
       "    .dataframe tbody tr th:only-of-type {\n",
       "        vertical-align: middle;\n",
       "    }\n",
       "\n",
       "    .dataframe tbody tr th {\n",
       "        vertical-align: top;\n",
       "    }\n",
       "\n",
       "    .dataframe thead th {\n",
       "        text-align: right;\n",
       "    }\n",
       "</style>\n",
       "<table border=\"1\" class=\"dataframe\">\n",
       "  <thead>\n",
       "    <tr style=\"text-align: right;\">\n",
       "      <th></th>\n",
       "      <th>feature_0</th>\n",
       "      <th>feature_1</th>\n",
       "      <th>feature_2</th>\n",
       "      <th>feature_3</th>\n",
       "      <th>feature_4</th>\n",
       "      <th>feature_5</th>\n",
       "      <th>feature_6</th>\n",
       "      <th>feature_7</th>\n",
       "      <th>feature_8</th>\n",
       "      <th>feature_9</th>\n",
       "    </tr>\n",
       "    <tr>\n",
       "      <th>date</th>\n",
       "      <th></th>\n",
       "      <th></th>\n",
       "      <th></th>\n",
       "      <th></th>\n",
       "      <th></th>\n",
       "      <th></th>\n",
       "      <th></th>\n",
       "      <th></th>\n",
       "      <th></th>\n",
       "      <th></th>\n",
       "    </tr>\n",
       "  </thead>\n",
       "  <tbody>\n",
       "    <tr>\n",
       "      <th>2020-01-01</th>\n",
       "      <td>0.735170</td>\n",
       "      <td>0.561450</td>\n",
       "      <td>0.176071</td>\n",
       "      <td>0.909940</td>\n",
       "      <td>0.288086</td>\n",
       "      <td>0.656838</td>\n",
       "      <td>0.027345</td>\n",
       "      <td>0.131999</td>\n",
       "      <td>0.421339</td>\n",
       "      <td>0.595504</td>\n",
       "    </tr>\n",
       "    <tr>\n",
       "      <th>2020-01-02</th>\n",
       "      <td>0.308086</td>\n",
       "      <td>0.871461</td>\n",
       "      <td>0.556096</td>\n",
       "      <td>0.277902</td>\n",
       "      <td>0.334200</td>\n",
       "      <td>0.873631</td>\n",
       "      <td>0.786464</td>\n",
       "      <td>0.225314</td>\n",
       "      <td>0.050216</td>\n",
       "      <td>0.577433</td>\n",
       "    </tr>\n",
       "    <tr>\n",
       "      <th>2020-01-03</th>\n",
       "      <td>0.826081</td>\n",
       "      <td>0.972999</td>\n",
       "      <td>0.986267</td>\n",
       "      <td>0.036010</td>\n",
       "      <td>0.371860</td>\n",
       "      <td>0.050569</td>\n",
       "      <td>0.692302</td>\n",
       "      <td>0.576769</td>\n",
       "      <td>0.410743</td>\n",
       "      <td>0.762790</td>\n",
       "    </tr>\n",
       "    <tr>\n",
       "      <th>2020-01-04</th>\n",
       "      <td>0.194590</td>\n",
       "      <td>0.347619</td>\n",
       "      <td>0.860034</td>\n",
       "      <td>0.757695</td>\n",
       "      <td>0.874374</td>\n",
       "      <td>0.230655</td>\n",
       "      <td>0.369402</td>\n",
       "      <td>0.011118</td>\n",
       "      <td>0.744574</td>\n",
       "      <td>0.438098</td>\n",
       "    </tr>\n",
       "    <tr>\n",
       "      <th>2020-01-05</th>\n",
       "      <td>0.965570</td>\n",
       "      <td>0.841828</td>\n",
       "      <td>0.511187</td>\n",
       "      <td>0.505123</td>\n",
       "      <td>0.259248</td>\n",
       "      <td>0.483402</td>\n",
       "      <td>0.854560</td>\n",
       "      <td>0.452118</td>\n",
       "      <td>0.041779</td>\n",
       "      <td>0.527069</td>\n",
       "    </tr>\n",
       "  </tbody>\n",
       "</table>\n",
       "</div>"
      ],
      "text/plain": [
       "            feature_0  feature_1  feature_2  feature_3  feature_4  feature_5  \\\n",
       "date                                                                           \n",
       "2020-01-01   0.735170   0.561450   0.176071   0.909940   0.288086   0.656838   \n",
       "2020-01-02   0.308086   0.871461   0.556096   0.277902   0.334200   0.873631   \n",
       "2020-01-03   0.826081   0.972999   0.986267   0.036010   0.371860   0.050569   \n",
       "2020-01-04   0.194590   0.347619   0.860034   0.757695   0.874374   0.230655   \n",
       "2020-01-05   0.965570   0.841828   0.511187   0.505123   0.259248   0.483402   \n",
       "\n",
       "            feature_6  feature_7  feature_8  feature_9  \n",
       "date                                                    \n",
       "2020-01-01   0.027345   0.131999   0.421339   0.595504  \n",
       "2020-01-02   0.786464   0.225314   0.050216   0.577433  \n",
       "2020-01-03   0.692302   0.576769   0.410743   0.762790  \n",
       "2020-01-04   0.369402   0.011118   0.744574   0.438098  \n",
       "2020-01-05   0.854560   0.452118   0.041779   0.527069  "
      ]
     },
     "execution_count": 5,
     "metadata": {},
     "output_type": "execute_result"
    }
   ],
   "source": [
    "df.head()"
   ]
  },
  {
   "cell_type": "code",
   "execution_count": 6,
   "metadata": {},
   "outputs": [
    {
     "name": "stdout",
     "output_type": "stream",
     "text": [
      "(366, 9), (366,)\n"
     ]
    }
   ],
   "source": [
    "X, y = df.drop(columns=['feature_0']), df['feature_0']\n",
    "print(f'{X.shape}, {y.shape}')"
   ]
  },
  {
   "cell_type": "code",
   "execution_count": 7,
   "metadata": {},
   "outputs": [],
   "source": [
    "pred_times = pd.Series(df.index, index=df.index)\n",
    "eval_times = pd.Series(df.index, index=df.index)"
   ]
  },
  {
   "cell_type": "code",
   "execution_count": 8,
   "metadata": {},
   "outputs": [],
   "source": [
    "cpcv = CombPurgedKFoldCVLocal(\n",
    "    n_splits=10,\n",
    "    n_test_splits=1,\n",
    "    embargo_td=pd.Timedelta(days=2)\n",
    ")"
   ]
  },
  {
   "cell_type": "code",
   "execution_count": 12,
   "metadata": {},
   "outputs": [
    {
     "name": "stdout",
     "output_type": "stream",
     "text": [
      "(Fold 0): train rows - (0:329); test rows - (330:365)\n",
      "(Fold 1): train rows - (0:365); test rows - (294:329)\n",
      "(Fold 2): train rows - (0:365); test rows - (258:293)\n",
      "(Fold 3): train rows - (0:365); test rows - (222:257)\n",
      "(Fold 4): train rows - (0:365); test rows - (185:221)\n",
      "(Fold 5): train rows - (0:365); test rows - (148:184)\n",
      "(Fold 6): train rows - (0:365); test rows - (111:147)\n",
      "(Fold 7): train rows - (0:365); test rows - (74:110)\n",
      "(Fold 8): train rows - (0:365); test rows - (37:73)\n",
      "(Fold 9): train rows - (39:365); test rows - (0:36)\n"
     ]
    }
   ],
   "source": [
    "for i, (train_idx, test_idx) in enumerate(cpcv.split(X, y, pred_times, eval_times)):\n",
    "    print(f'(Fold {i}): train rows - ({train_idx[0]}:{train_idx[-1]}); test rows - ({test_idx[0]}:{test_idx[-1]})')"
   ]
  }
 ],
 "metadata": {
  "kernelspec": {
   "display_name": "GluonTS",
   "language": "python",
   "name": "python3"
  },
  "language_info": {
   "codemirror_mode": {
    "name": "ipython",
    "version": 3
   },
   "file_extension": ".py",
   "mimetype": "text/x-python",
   "name": "python",
   "nbconvert_exporter": "python",
   "pygments_lexer": "ipython3",
   "version": "3.9.15"
  }
 },
 "nbformat": 4,
 "nbformat_minor": 2
}
