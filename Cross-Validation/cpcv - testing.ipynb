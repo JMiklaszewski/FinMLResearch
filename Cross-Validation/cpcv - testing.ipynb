{
 "cells": [
  {
   "cell_type": "code",
   "execution_count": null,
   "metadata": {},
   "outputs": [],
   "source": [
    "import numpy as np\n",
    "import pandas as pd\n",
    "from datetime import datetime\n",
    "from cpcv import CombPurgedKFoldCVLocal"
   ]
  },
  {
   "cell_type": "code",
   "execution_count": null,
   "metadata": {},
   "outputs": [],
   "source": [
    "def generate_time_series(start, end, num_series):\n",
    "    date_range = pd.date_range(start=start, end=end)\n",
    "    data = np.random.rand(len(date_range), num_series)\n",
    "    df = pd.DataFrame(data, index=date_range)\n",
    "    df.columns = [f'feature_{i}' for i in range(len(df.columns))]\n",
    "    df.index.name = 'date'\n",
    "    return df"
   ]
  },
  {
   "cell_type": "code",
   "execution_count": null,
   "metadata": {},
   "outputs": [],
   "source": [
    "start_date = datetime(2020, 1, 1)\n",
    "end_date = datetime(2020, 12, 31)\n",
    "num_series = 10"
   ]
  },
  {
   "cell_type": "code",
   "execution_count": null,
   "metadata": {},
   "outputs": [],
   "source": [
    "df = generate_time_series(start_date, end_date, num_series)"
   ]
  },
  {
   "cell_type": "code",
   "execution_count": null,
   "metadata": {},
   "outputs": [],
   "source": [
    "df.head()"
   ]
  },
  {
   "cell_type": "code",
   "execution_count": null,
   "metadata": {},
   "outputs": [],
   "source": [
    "X, y = df.drop(columns=['feature_0']), df['feature_0']\n",
    "print(f'{X.shape}, {y.shape}')"
   ]
  },
  {
   "cell_type": "code",
   "execution_count": null,
   "metadata": {},
   "outputs": [],
   "source": [
    "pred_times = pd.Series(df.index, index=df.index)\n",
    "eval_times = pd.Series(df.index, index=df.index)"
   ]
  },
  {
   "cell_type": "code",
   "execution_count": null,
   "metadata": {},
   "outputs": [],
   "source": [
    "cpcv = CombPurgedKFoldCVLocal(\n",
    "    n_splits=10,\n",
    "    n_test_splits=1,\n",
    "    embargo_td=pd.Timedelta(days=2)\n",
    ")"
   ]
  },
  {
   "cell_type": "code",
   "execution_count": null,
   "metadata": {},
   "outputs": [],
   "source": [
    "for i, (train_idx, test_idx) in enumerate(cpcv.split(X, y, pred_times, eval_times)):\n",
    "    print(i)"
   ]
  }
 ],
 "metadata": {
  "kernelspec": {
   "display_name": "GluonTS",
   "language": "python",
   "name": "python3"
  },
  "language_info": {
   "codemirror_mode": {
    "name": "ipython",
    "version": 3
   },
   "file_extension": ".py",
   "mimetype": "text/x-python",
   "name": "python",
   "nbconvert_exporter": "python",
   "pygments_lexer": "ipython3",
   "version": "3.9.15"
  }
 },
 "nbformat": 4,
 "nbformat_minor": 2
}
